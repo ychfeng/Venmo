{
 "cells": [
  {
   "cell_type": "code",
   "execution_count": null,
   "metadata": {},
   "outputs": [],
   "source": [
    "1. data\n",
    "2. model training: embedding + logistic\n",
    "3. emoji\n",
    "4. test"
   ]
  },
  {
   "cell_type": "code",
   "execution_count": 1,
   "metadata": {},
   "outputs": [],
   "source": [
    "import pandas as pd\n",
    "import numpy as np\n",
    "from gensim.models import FastText\n",
    "import pickle\n",
    "import re\n",
    "import time\n",
    "import nltk\n",
    "from nltk.corpus import wordnet\n",
    "from sklearn import model_selection\n",
    "from sklearn import metrics,preprocessing\n",
    "from sklearn.linear_model import LogisticRegression\n",
    "import json\n",
    "from uniseg.graphemecluster import grapheme_clusters\n",
    "import regex\n"
   ]
  },
  {
   "cell_type": "code",
   "execution_count": 2,
   "metadata": {},
   "outputs": [],
   "source": [
    "from random import seed\n",
    "from random import sample"
   ]
  },
  {
   "cell_type": "markdown",
   "metadata": {},
   "source": [
    "Project Summary\n",
    "\n",
    "Introduction:\n",
    "Public displaying the mandatory memos of the transactions, Venmo is a social digital wallet for sharing payments with friends. It serves as a portal into the offline spending behavior of users. Though not including all the consumption, it provides a great supplement to understanding spending in various categories, comparing to the data source of a specific company.\n",
    "\n",
    "Methods:\n",
    "Utilizing that data, I identified the use case for each transaction and investigated the spending behavior of users, defined as the proportions people spend on different categories. \n",
    "To achieve this goal, I built a multinomial logistic model to predict the probabilities of different categories with F1 score of 0.947, which was trained with features to be the vectorized text and true labels obtained through the dictionary-based approach. \n",
    "\n",
    "Challenge:\n",
    "The challenge was to interpret emoji and abbreviations in informal English. With the linguistic descriptions of emoji obtained from EmojiNet, emojis are represented by the average word vector of their description. As for abbreviations, by vectorizing words based on n-grams, out-of-vocabulary words could be identified and the result proved to be reasonable.\n",
    "\n",
    "original data, text manipulation, fasttext, emoji, logistic\n",
    "\n",
    "\n"
   ]
  },
  {
   "cell_type": "markdown",
   "metadata": {},
   "source": [
    "<font color='purple'>\n",
    "\n",
    "# 1. Original data\n",
    "\n",
    "    including user ID, datetime, description and other irrelevant information.\n",
    "\n",
    "    Data size: 3,599,970\n",
    "\n",
    "    Percentage containing text: 37.6%\n",
    "\n",
    "    Percentage containing emoji: 74.8%"
   ]
  },
  {
   "cell_type": "code",
   "execution_count": 2,
   "metadata": {},
   "outputs": [],
   "source": [
    "orig_sample=pd.read_csv('/Users/yichuan/Desktop/Venmo project/data/venmoSample.csv')"
   ]
  },
  {
   "cell_type": "code",
   "execution_count": 3,
   "metadata": {},
   "outputs": [],
   "source": [
    "orig_sample=orig_sample[1:3600000]  # this is half of the sample I acquired"
   ]
  },
  {
   "cell_type": "code",
   "execution_count": 4,
   "metadata": {},
   "outputs": [
    {
     "data": {
      "text/plain": [
       "user1                0\n",
       "user2                0\n",
       "transaction_type     0\n",
       "datetime             0\n",
       "description         29\n",
       "is_business          0\n",
       "story_id             0\n",
       "dtype: int64"
      ]
     },
     "execution_count": 4,
     "metadata": {},
     "output_type": "execute_result"
    }
   ],
   "source": [
    "orig_sample.isnull().sum()"
   ]
  },
  {
   "cell_type": "code",
   "execution_count": 4,
   "metadata": {},
   "outputs": [],
   "source": [
    "# filter out missing value\n",
    "orig_sample=orig_sample.dropna()"
   ]
  },
  {
   "cell_type": "code",
   "execution_count": 6,
   "metadata": {},
   "outputs": [
    {
     "data": {
      "text/plain": [
       "(3599970, 7)"
      ]
     },
     "execution_count": 6,
     "metadata": {},
     "output_type": "execute_result"
    }
   ],
   "source": [
    "orig_sample.shape"
   ]
  },
  {
   "cell_type": "code",
   "execution_count": 7,
   "metadata": {},
   "outputs": [
    {
     "data": {
      "text/html": [
       "<div>\n",
       "<style scoped>\n",
       "    .dataframe tbody tr th:only-of-type {\n",
       "        vertical-align: middle;\n",
       "    }\n",
       "\n",
       "    .dataframe tbody tr th {\n",
       "        vertical-align: top;\n",
       "    }\n",
       "\n",
       "    .dataframe thead th {\n",
       "        text-align: right;\n",
       "    }\n",
       "</style>\n",
       "<table border=\"1\" class=\"dataframe\">\n",
       "  <thead>\n",
       "    <tr style=\"text-align: right;\">\n",
       "      <th></th>\n",
       "      <th>user1</th>\n",
       "      <th>user2</th>\n",
       "      <th>transaction_type</th>\n",
       "      <th>datetime</th>\n",
       "      <th>description</th>\n",
       "      <th>is_business</th>\n",
       "      <th>story_id</th>\n",
       "    </tr>\n",
       "  </thead>\n",
       "  <tbody>\n",
       "    <tr>\n",
       "      <th>1</th>\n",
       "      <td>5109483</td>\n",
       "      <td>4782303</td>\n",
       "      <td>payment</td>\n",
       "      <td>2015-06-17 04:37:04</td>\n",
       "      <td>Costco</td>\n",
       "      <td>False</td>\n",
       "      <td>5580f9702b64f70ab0114e94</td>\n",
       "    </tr>\n",
       "    <tr>\n",
       "      <th>2</th>\n",
       "      <td>4322148</td>\n",
       "      <td>3392963</td>\n",
       "      <td>payment</td>\n",
       "      <td>2015-06-19 00:05:31</td>\n",
       "      <td>Sweaty balls</td>\n",
       "      <td>False</td>\n",
       "      <td>55835ccb1a624b14ac62cef4</td>\n",
       "    </tr>\n",
       "    <tr>\n",
       "      <th>3</th>\n",
       "      <td>469894</td>\n",
       "      <td>1333620</td>\n",
       "      <td>charge</td>\n",
       "      <td>2016-06-03 16:34:13</td>\n",
       "      <td>🎥</td>\n",
       "      <td>False</td>\n",
       "      <td>5751b185cd03c9af224c0d17</td>\n",
       "    </tr>\n",
       "    <tr>\n",
       "      <th>4</th>\n",
       "      <td>2960727</td>\n",
       "      <td>3442373</td>\n",
       "      <td>payment</td>\n",
       "      <td>2016-05-29 16:23:42</td>\n",
       "      <td>⚡</td>\n",
       "      <td>False</td>\n",
       "      <td>574b178ecd03c9af22cf67f4</td>\n",
       "    </tr>\n",
       "    <tr>\n",
       "      <th>5</th>\n",
       "      <td>3977544</td>\n",
       "      <td>2709470</td>\n",
       "      <td>payment</td>\n",
       "      <td>2016-09-29 15:12:07</td>\n",
       "      <td>Chipotlaid</td>\n",
       "      <td>False</td>\n",
       "      <td>57ed2f4723e064eac0879304</td>\n",
       "    </tr>\n",
       "  </tbody>\n",
       "</table>\n",
       "</div>"
      ],
      "text/plain": [
       "     user1    user2 transaction_type             datetime   description  \\\n",
       "1  5109483  4782303          payment  2015-06-17 04:37:04        Costco   \n",
       "2  4322148  3392963          payment  2015-06-19 00:05:31  Sweaty balls   \n",
       "3   469894  1333620           charge  2016-06-03 16:34:13             🎥   \n",
       "4  2960727  3442373          payment  2016-05-29 16:23:42             ⚡   \n",
       "5  3977544  2709470          payment  2016-09-29 15:12:07    Chipotlaid   \n",
       "\n",
       "   is_business                  story_id  \n",
       "1        False  5580f9702b64f70ab0114e94  \n",
       "2        False  55835ccb1a624b14ac62cef4  \n",
       "3        False  5751b185cd03c9af224c0d17  \n",
       "4        False  574b178ecd03c9af22cf67f4  \n",
       "5        False  57ed2f4723e064eac0879304  "
      ]
     },
     "execution_count": 7,
     "metadata": {},
     "output_type": "execute_result"
    }
   ],
   "source": [
    "orig_sample.head()"
   ]
  },
  {
   "cell_type": "markdown",
   "metadata": {},
   "source": [
    "<font color='purple'>\n",
    "\n",
    "# 2. Identify use case through the dictionary-based approach. \n",
    "\n",
    "    The results of classification are true labels to feed into a logistic model.\n"
   ]
  },
  {
   "cell_type": "markdown",
   "metadata": {},
   "source": [
    "<font color='purple'>\n",
    "\n",
    "2.1 Import manually created dict \n",
    "    \n",
    "    1. Manully created a dictionary that categorizes the 2000 most frequent words in memos into 9 groups, because of the lack of existing dictionary for categorizing words into money buckets.\n",
    "\n",
    "    2. Leveraging the emoji dictionary from EmojiPedia, including 664 emojis. Emoji is hard to interpret. Luckily, the website EmojiPedia provides categorized emoji, including transportation, food...\n",
    "\n",
    "    3. Divide use case into 9 categories: People*, Food, Event*, Activity, Travel, Transportation, Utility, Cash, Illegal/Sarcasm\n",
    "    \n",
    "        People: some nice sentiments \n",
    "        Event: special days \n",
    "    "
   ]
  },
  {
   "cell_type": "code",
   "execution_count": 4,
   "metadata": {},
   "outputs": [],
   "source": [
    "word_dict=pd.read_csv('/Users/yichuan/Desktop/Venmo project/data/Venmo_Word_Classification_Dictionary.csv')\n",
    "\n",
    "emoji_dict=pd.read_csv(\"/Users/yichuan/Desktop/Venmo project/data/Venmo_Emoji_Classification_Dictionary.csv\")"
   ]
  },
  {
   "cell_type": "code",
   "execution_count": 5,
   "metadata": {},
   "outputs": [
    {
     "data": {
      "text/html": [
       "<div>\n",
       "<style scoped>\n",
       "    .dataframe tbody tr th:only-of-type {\n",
       "        vertical-align: middle;\n",
       "    }\n",
       "\n",
       "    .dataframe tbody tr th {\n",
       "        vertical-align: top;\n",
       "    }\n",
       "\n",
       "    .dataframe thead th {\n",
       "        text-align: right;\n",
       "    }\n",
       "</style>\n",
       "<table border=\"1\" class=\"dataframe\">\n",
       "  <thead>\n",
       "    <tr style=\"text-align: right;\">\n",
       "      <th></th>\n",
       "      <th>People</th>\n",
       "      <th>Food</th>\n",
       "      <th>Event</th>\n",
       "      <th>Activity</th>\n",
       "      <th>Travel</th>\n",
       "      <th>Transportation</th>\n",
       "      <th>Utility</th>\n",
       "      <th>Cash</th>\n",
       "      <th>Illegal/Sarcasm</th>\n",
       "    </tr>\n",
       "  </thead>\n",
       "  <tbody>\n",
       "    <tr>\n",
       "      <th>0</th>\n",
       "      <td>friend</td>\n",
       "      <td>food</td>\n",
       "      <td>birthday</td>\n",
       "      <td>ball</td>\n",
       "      <td>beach</td>\n",
       "      <td>lyft</td>\n",
       "      <td>bill</td>\n",
       "      <td>atm</td>\n",
       "      <td>addiction</td>\n",
       "    </tr>\n",
       "    <tr>\n",
       "      <th>1</th>\n",
       "      <td>friendship</td>\n",
       "      <td>bbq</td>\n",
       "      <td>christmas</td>\n",
       "      <td>boat</td>\n",
       "      <td>place</td>\n",
       "      <td>uber</td>\n",
       "      <td>cable</td>\n",
       "      <td>bank</td>\n",
       "      <td>drug</td>\n",
       "    </tr>\n",
       "    <tr>\n",
       "      <th>2</th>\n",
       "      <td>baby</td>\n",
       "      <td>bean</td>\n",
       "      <td>happy</td>\n",
       "      <td>bar</td>\n",
       "      <td>la</td>\n",
       "      <td>cab</td>\n",
       "      <td>fee</td>\n",
       "      <td>cash</td>\n",
       "      <td>wangs</td>\n",
       "    </tr>\n",
       "    <tr>\n",
       "      <th>3</th>\n",
       "      <td>boy</td>\n",
       "      <td>latte</td>\n",
       "      <td>bday</td>\n",
       "      <td>book</td>\n",
       "      <td>world</td>\n",
       "      <td>bus</td>\n",
       "      <td>electric</td>\n",
       "      <td>money</td>\n",
       "      <td>weed</td>\n",
       "    </tr>\n",
       "    <tr>\n",
       "      <th>4</th>\n",
       "      <td>girl</td>\n",
       "      <td>breakfast</td>\n",
       "      <td>wedding</td>\n",
       "      <td>club</td>\n",
       "      <td>hotel</td>\n",
       "      <td>car</td>\n",
       "      <td>electricity</td>\n",
       "      <td>buck</td>\n",
       "      <td>anal</td>\n",
       "    </tr>\n",
       "  </tbody>\n",
       "</table>\n",
       "</div>"
      ],
      "text/plain": [
       "       People       Food      Event Activity Travel Transportation  \\\n",
       "0      friend       food   birthday     ball  beach           lyft   \n",
       "1  friendship        bbq  christmas     boat  place           uber   \n",
       "2        baby       bean      happy      bar     la            cab   \n",
       "3         boy      latte       bday     book  world            bus   \n",
       "4        girl  breakfast    wedding     club  hotel            car   \n",
       "\n",
       "       Utility   Cash Illegal/Sarcasm  \n",
       "0         bill   atm        addiction  \n",
       "1        cable  bank             drug  \n",
       "2          fee  cash            wangs  \n",
       "3     electric  money            weed  \n",
       "4  electricity   buck            anal  "
      ]
     },
     "execution_count": 5,
     "metadata": {},
     "output_type": "execute_result"
    }
   ],
   "source": [
    "word_dict.head()"
   ]
  },
  {
   "cell_type": "code",
   "execution_count": 6,
   "metadata": {},
   "outputs": [
    {
     "data": {
      "text/html": [
       "<div>\n",
       "<style scoped>\n",
       "    .dataframe tbody tr th:only-of-type {\n",
       "        vertical-align: middle;\n",
       "    }\n",
       "\n",
       "    .dataframe tbody tr th {\n",
       "        vertical-align: top;\n",
       "    }\n",
       "\n",
       "    .dataframe thead th {\n",
       "        text-align: right;\n",
       "    }\n",
       "</style>\n",
       "<table border=\"1\" class=\"dataframe\">\n",
       "  <thead>\n",
       "    <tr style=\"text-align: right;\">\n",
       "      <th></th>\n",
       "      <th>Event</th>\n",
       "      <th>Travel</th>\n",
       "      <th>Food</th>\n",
       "      <th>Activity</th>\n",
       "      <th>Transportation</th>\n",
       "      <th>People</th>\n",
       "      <th>Utility</th>\n",
       "    </tr>\n",
       "  </thead>\n",
       "  <tbody>\n",
       "    <tr>\n",
       "      <th>0</th>\n",
       "      <td>🇦🇺</td>\n",
       "      <td>🏔</td>\n",
       "      <td>🍇</td>\n",
       "      <td>👾</td>\n",
       "      <td>🚄</td>\n",
       "      <td>😀</td>\n",
       "      <td>⚡</td>\n",
       "    </tr>\n",
       "    <tr>\n",
       "      <th>1</th>\n",
       "      <td>🇫🇷</td>\n",
       "      <td>⛰</td>\n",
       "      <td>🍈</td>\n",
       "      <td>🕴</td>\n",
       "      <td>🚅</td>\n",
       "      <td>😃</td>\n",
       "      <td>💡</td>\n",
       "    </tr>\n",
       "    <tr>\n",
       "      <th>2</th>\n",
       "      <td>🎂</td>\n",
       "      <td>🌋</td>\n",
       "      <td>🍉</td>\n",
       "      <td>🎪</td>\n",
       "      <td>🚆</td>\n",
       "      <td>😄</td>\n",
       "      <td>🔌</td>\n",
       "    </tr>\n",
       "    <tr>\n",
       "      <th>3</th>\n",
       "      <td>🛍</td>\n",
       "      <td>🗻</td>\n",
       "      <td>🍊</td>\n",
       "      <td>🎭</td>\n",
       "      <td>🚇</td>\n",
       "      <td>😁</td>\n",
       "      <td>📺</td>\n",
       "    </tr>\n",
       "    <tr>\n",
       "      <th>4</th>\n",
       "      <td>🇨🇦</td>\n",
       "      <td>🏕</td>\n",
       "      <td>🍋</td>\n",
       "      <td>🎨</td>\n",
       "      <td>🚈</td>\n",
       "      <td>😆</td>\n",
       "      <td>🔌</td>\n",
       "    </tr>\n",
       "  </tbody>\n",
       "</table>\n",
       "</div>"
      ],
      "text/plain": [
       "  Event Travel Food Activity Transportation People Utility\n",
       "0    🇦🇺      🏔    🍇        👾              🚄      😀       ⚡\n",
       "1    🇫🇷      ⛰    🍈        🕴              🚅      😃       💡\n",
       "2     🎂      🌋    🍉        🎪              🚆      😄       🔌\n",
       "3     🛍      🗻    🍊        🎭              🚇      😁       📺\n",
       "4    🇨🇦      🏕    🍋        🎨              🚈      😆       🔌"
      ]
     },
     "execution_count": 6,
     "metadata": {},
     "output_type": "execute_result"
    }
   ],
   "source": [
    "emoji_dict.head()"
   ]
  },
  {
   "cell_type": "code",
   "execution_count": 133,
   "metadata": {},
   "outputs": [],
   "source": [
    "# Reform dataframes into a dictionary and filter out nan\n",
    "new_dict = word_dict.to_dict(orient='list')\n",
    "filtered = {k: [x for x in v if str(x)!='nan'] for k, v in new_dict.items()}\n",
    "new_dict.clear()\n",
    "new_dict.update(filtered)\n",
    "\n",
    "emoji_dict = emoji_dict.to_dict(orient='list')\n",
    "filtered = {k: [x for x in v if str(x)!='nan'] for k, v in emoji_dict.items()}\n",
    "emoji_dict.clear()\n",
    "emoji_dict.update(filtered)\n",
    "\n",
    "for col in emoji_dict.keys():\n",
    "    new_dict[col]=new_dict[col]+ emoji_dict[col]"
   ]
  },
  {
   "cell_type": "code",
   "execution_count": 134,
   "metadata": {},
   "outputs": [
    {
     "data": {
      "text/plain": [
       "664"
      ]
     },
     "execution_count": 134,
     "metadata": {},
     "output_type": "execute_result"
    }
   ],
   "source": [
    "sum([len(emoji_dict[x]) for x in emoji_dict.keys()])"
   ]
  },
  {
   "cell_type": "code",
   "execution_count": 11,
   "metadata": {},
   "outputs": [
    {
     "data": {
      "text/plain": [
       "dict_keys(['People', 'Food', 'Event', 'Activity', 'Travel', 'Transportation', 'Utility', 'Cash', 'Illegal/Sarcasm'])"
      ]
     },
     "execution_count": 11,
     "metadata": {},
     "output_type": "execute_result"
    }
   ],
   "source": [
    "new_dict.keys()"
   ]
  },
  {
   "cell_type": "code",
   "execution_count": 135,
   "metadata": {},
   "outputs": [],
   "source": [
    "new_dict_list=[new_dict[x] for x in new_dict.keys()]"
   ]
  },
  {
   "cell_type": "markdown",
   "metadata": {},
   "source": [
    "<font color='purple'>\n",
    "\n",
    "2.2 Emoji/ text preprocessing"
   ]
  },
  {
   "cell_type": "code",
   "execution_count": 121,
   "metadata": {},
   "outputs": [],
   "source": [
    "# 1. Remove punctuations\n",
    "# or the puctuations would be treated as emoji\n",
    "punctuations = '~|`|\\!|@|#|$|%|^|&|\\*|\\(|\\)|-|\\+|=|_|\\{|\\}|\\[|\\]|;|:|\\?|\\.|,|<|>|/|\\'|\\\"'\n",
    "orig_sample['desc_punc_remove'] = [re.sub(punctuations,'',x) for x in orig_sample['description']]"
   ]
  },
  {
   "cell_type": "code",
   "execution_count": 122,
   "metadata": {
    "scrolled": true
   },
   "outputs": [],
   "source": [
    "# 2. Preprocess emoji\n",
    "# create new column 'emoji': keep only emojis from memos\n",
    "orig_sample['emoji'] = [re.sub('[\\w\\s]','',x) for x in orig_sample['desc_punc_remove']]"
   ]
  },
  {
   "cell_type": "markdown",
   "metadata": {},
   "source": [
    "<font color='red'>\n",
    "\n",
    "# Attention"
   ]
  },
  {
   "cell_type": "code",
   "execution_count": 125,
   "metadata": {},
   "outputs": [],
   "source": [
    "# Find a proper way to tokenize emojis as users perceived\n",
    "# Some composed emojis are represented by several code points. Though they displayed as a single emoji, the result of the code 'len()' would be more than one.\n",
    "# we don't want those things happen, for \n",
    "#   a) users put same effort to type them as type other emoji \n",
    "#   b) their meaning might not be the simple combination of the composed emoji\n",
    "\n",
    "def token_emoji(emoji):\n",
    "    '''\n",
    "    return emoji tokens\n",
    "    Input: string\n",
    "    Output: list\n",
    "    '''\n",
    "    return regex.findall(r'\\X',emoji)"
   ]
  },
  {
   "cell_type": "code",
   "execution_count": 20,
   "metadata": {},
   "outputs": [
    {
     "data": {
      "text/plain": [
       "['🇫', '🇷', '🇫', '🇷', '🇫', '🇷', '🙅', '🏽']"
      ]
     },
     "execution_count": 20,
     "metadata": {},
     "output_type": "execute_result"
    }
   ],
   "source": [
    "[x for x in '🇫🇷🇫🇷🇫🇷🙅🏽']"
   ]
  },
  {
   "cell_type": "code",
   "execution_count": 21,
   "metadata": {},
   "outputs": [
    {
     "data": {
      "text/plain": [
       "['🇫🇷', '🇫🇷', '🇫🇷', '🙅🏽']"
      ]
     },
     "execution_count": 21,
     "metadata": {},
     "output_type": "execute_result"
    }
   ],
   "source": [
    "regex.findall(r'\\X','🇫🇷🇫🇷🇫🇷🙅🏽')"
   ]
  },
  {
   "cell_type": "code",
   "execution_count": 127,
   "metadata": {
    "scrolled": true
   },
   "outputs": [],
   "source": [
    "# Tokenize emoji\n",
    "orig_sample['emoji_token'] = [token_emoji(x) for x in orig_sample['emoji']]  # quick"
   ]
  },
  {
   "cell_type": "code",
   "execution_count": 128,
   "metadata": {},
   "outputs": [],
   "source": [
    "# 3. Preprocess text\n",
    "\n",
    "orig_sample['text']=[re.sub('[^\\w\\s]','',x) for x in orig_sample['desc_punc_remove']]"
   ]
  },
  {
   "cell_type": "code",
   "execution_count": 28,
   "metadata": {},
   "outputs": [],
   "source": [
    "\n",
    "\n",
    "# Functions for cleaning data\n",
    "\n",
    "def wordnet_pos(tag):\n",
    "    \"\"\"\n",
    "    Map a Brown POS tag to a WordNet POS tag.\n",
    "    Input: list\n",
    "    Output: list\n",
    "    \"\"\"\n",
    "    \n",
    "    table = {\"N\": wordnet.NOUN, \"V\": wordnet.VERB, \"R\": wordnet.ADV, \"J\": wordnet.ADJ}\n",
    "    \n",
    "    # Default to a noun.\n",
    "    return table.get(tag[0], wordnet.NOUN)\n",
    "\n",
    "lemmatizer = nltk.WordNetLemmatizer()\n",
    "\n",
    "def clean_data(data):\n",
    "    '''\n",
    "    Text Preprocessing, including tokenization, lemmatization and stop words removing\n",
    "    Input: string\n",
    "    Output: list\n",
    "    '''\n",
    "    if data=='':\n",
    "        return []\n",
    "    else:\n",
    "        words = nltk.word_tokenize(data)\n",
    "        words = [w.lower() for w in words]\n",
    "\n",
    "        word_tags = nltk.pos_tag(words)\n",
    "        words=[lemmatizer.lemmatize(w, wordnet_pos(t)) for (w, t) in word_tags]\n",
    "\n",
    "        stopwords = nltk.corpus.stopwords.words(\"english\") + [\"say\",\"get\",\"make\",\"also\",\"would\",\"could\",\"take\",\"go\"]\n",
    "\n",
    "        #isalnum()True if all characters in the string are alphanumeric (either alphabets or numbers)\n",
    "        words=[w for w in words if w not in stopwords]\n",
    "\n",
    "        return words\n"
   ]
  },
  {
   "cell_type": "code",
   "execution_count": 17,
   "metadata": {
    "scrolled": true
   },
   "outputs": [],
   "source": [
    "orig_sample['clean_text']=[clean_data(x) for x in orig_sample['text']]"
   ]
  },
  {
   "cell_type": "markdown",
   "metadata": {},
   "source": [
    "<font color='purple'>\n",
    "\n",
    "2.3 Classification based on maually created dictionary"
   ]
  },
  {
   "cell_type": "code",
   "execution_count": 136,
   "metadata": {},
   "outputs": [],
   "source": [
    "# function for classification\n",
    "\n",
    "def classify_all(a):\n",
    "    '''\n",
    "    return observation scores, which is defined as the number of tokens found in each category\n",
    "    input: list\n",
    "    output: list\n",
    "    '''\n",
    "    s=[0]*9\n",
    "    for j in range(9):\n",
    "        for i in a:\n",
    "            if (i in new_dict_list[j]):\n",
    "                s[j]=s[j]+1\n",
    "    return [x if x<=1 else 1 for x in s]"
   ]
  },
  {
   "cell_type": "code",
   "execution_count": 131,
   "metadata": {
    "scrolled": true
   },
   "outputs": [],
   "source": [
    "# Create column: new_list-- list of emoji token and word token\n",
    "# keep unique elements only: to simplify classification, as we are having binary classification problem    \n",
    "orig_sample['new_list']=orig_sample['emoji_token']+orig_sample['clean_text']\n",
    "orig_sample['new_list']=[list(set(x)) for x in orig_sample['new_list']]  \n"
   ]
  },
  {
   "cell_type": "code",
   "execution_count": 137,
   "metadata": {},
   "outputs": [],
   "source": [
    "# Apply classification function\n",
    "result_df=pd.DataFrame([classify_all(x) for x in orig_sample['new_list']])"
   ]
  },
  {
   "cell_type": "code",
   "execution_count": 138,
   "metadata": {},
   "outputs": [],
   "source": [
    "c=['People', 'Food', 'Event', 'Activity', 'Travel', 'Transportation', 'Utility', 'Cash', 'Illegal/Sarcasm']\n",
    "\n",
    "result_df.columns=c"
   ]
  },
  {
   "cell_type": "code",
   "execution_count": 140,
   "metadata": {},
   "outputs": [],
   "source": [
    "# Create column: total number of categories that occur \n",
    "result_df['number of classified']=result_df.sum(axis=1)"
   ]
  },
  {
   "cell_type": "code",
   "execution_count": null,
   "metadata": {},
   "outputs": [],
   "source": [
    "#Snapshot of 'result_df':\n",
    "\n",
    "# Column 'People' to column 'Illegal/Sarcasm' are the results of classification\n",
    "# Column 'number of classified' is the sum of scores, idicating the number of categories found in certain sample\n",
    "\n",
    "# further used for training logistic model"
   ]
  },
  {
   "cell_type": "code",
   "execution_count": 141,
   "metadata": {},
   "outputs": [
    {
     "data": {
      "text/html": [
       "<div>\n",
       "<style scoped>\n",
       "    .dataframe tbody tr th:only-of-type {\n",
       "        vertical-align: middle;\n",
       "    }\n",
       "\n",
       "    .dataframe tbody tr th {\n",
       "        vertical-align: top;\n",
       "    }\n",
       "\n",
       "    .dataframe thead th {\n",
       "        text-align: right;\n",
       "    }\n",
       "</style>\n",
       "<table border=\"1\" class=\"dataframe\">\n",
       "  <thead>\n",
       "    <tr style=\"text-align: right;\">\n",
       "      <th></th>\n",
       "      <th>People</th>\n",
       "      <th>Food</th>\n",
       "      <th>Event</th>\n",
       "      <th>Activity</th>\n",
       "      <th>Travel</th>\n",
       "      <th>Transportation</th>\n",
       "      <th>Utility</th>\n",
       "      <th>Cash</th>\n",
       "      <th>Illegal/Sarcasm</th>\n",
       "      <th>number of classified</th>\n",
       "    </tr>\n",
       "  </thead>\n",
       "  <tbody>\n",
       "    <tr>\n",
       "      <th>0</th>\n",
       "      <td>0</td>\n",
       "      <td>1</td>\n",
       "      <td>0</td>\n",
       "      <td>0</td>\n",
       "      <td>0</td>\n",
       "      <td>0</td>\n",
       "      <td>0</td>\n",
       "      <td>0</td>\n",
       "      <td>0</td>\n",
       "      <td>1</td>\n",
       "    </tr>\n",
       "    <tr>\n",
       "      <th>1</th>\n",
       "      <td>0</td>\n",
       "      <td>0</td>\n",
       "      <td>0</td>\n",
       "      <td>1</td>\n",
       "      <td>0</td>\n",
       "      <td>0</td>\n",
       "      <td>0</td>\n",
       "      <td>0</td>\n",
       "      <td>0</td>\n",
       "      <td>1</td>\n",
       "    </tr>\n",
       "    <tr>\n",
       "      <th>2</th>\n",
       "      <td>0</td>\n",
       "      <td>0</td>\n",
       "      <td>1</td>\n",
       "      <td>0</td>\n",
       "      <td>0</td>\n",
       "      <td>0</td>\n",
       "      <td>0</td>\n",
       "      <td>0</td>\n",
       "      <td>0</td>\n",
       "      <td>1</td>\n",
       "    </tr>\n",
       "    <tr>\n",
       "      <th>3</th>\n",
       "      <td>0</td>\n",
       "      <td>0</td>\n",
       "      <td>0</td>\n",
       "      <td>0</td>\n",
       "      <td>0</td>\n",
       "      <td>0</td>\n",
       "      <td>1</td>\n",
       "      <td>0</td>\n",
       "      <td>0</td>\n",
       "      <td>1</td>\n",
       "    </tr>\n",
       "    <tr>\n",
       "      <th>4</th>\n",
       "      <td>0</td>\n",
       "      <td>0</td>\n",
       "      <td>0</td>\n",
       "      <td>0</td>\n",
       "      <td>0</td>\n",
       "      <td>0</td>\n",
       "      <td>0</td>\n",
       "      <td>0</td>\n",
       "      <td>0</td>\n",
       "      <td>0</td>\n",
       "    </tr>\n",
       "  </tbody>\n",
       "</table>\n",
       "</div>"
      ],
      "text/plain": [
       "   People  Food  Event  Activity  Travel  Transportation  Utility  Cash  \\\n",
       "0       0     1      0         0       0               0        0     0   \n",
       "1       0     0      0         1       0               0        0     0   \n",
       "2       0     0      1         0       0               0        0     0   \n",
       "3       0     0      0         0       0               0        1     0   \n",
       "4       0     0      0         0       0               0        0     0   \n",
       "\n",
       "   Illegal/Sarcasm  number of classified  \n",
       "0                0                     1  \n",
       "1                0                     1  \n",
       "2                0                     1  \n",
       "3                0                     1  \n",
       "4                0                     0  "
      ]
     },
     "execution_count": 141,
     "metadata": {},
     "output_type": "execute_result"
    }
   ],
   "source": [
    "result_df.head()"
   ]
  },
  {
   "cell_type": "code",
   "execution_count": 144,
   "metadata": {},
   "outputs": [],
   "source": [
    "# Add on emoji and text column to 'result_df'\n",
    "result_df['description']=orig_sample['description']\n",
    "result_df['emoji_token']=orig_sample['emoji_token']\n",
    "result_df['clean_text']=orig_sample['clean_text']\n"
   ]
  },
  {
   "cell_type": "markdown",
   "metadata": {},
   "source": [
    "<font color='purple'>\n",
    "\n",
    "2.4 Distribution"
   ]
  },
  {
   "cell_type": "markdown",
   "metadata": {},
   "source": [
    "<font color='purple'>\n",
    "\n",
    "2.4.1 Emoji/ text percentage "
   ]
  },
  {
   "cell_type": "code",
   "execution_count": 50,
   "metadata": {},
   "outputs": [
    {
     "data": {
      "text/plain": [
       "1338217"
      ]
     },
     "execution_count": 50,
     "metadata": {},
     "output_type": "execute_result"
    }
   ],
   "source": [
    "# number of samples that contain emoji\n",
    "sum([x!='' for x in orig_sample['emoji']])"
   ]
  },
  {
   "cell_type": "code",
   "execution_count": 8,
   "metadata": {},
   "outputs": [
    {
     "data": {
      "text/plain": [
       "0.3763720022387409"
      ]
     },
     "execution_count": 8,
     "metadata": {},
     "output_type": "execute_result"
    }
   ],
   "source": [
    "1338217/3555570"
   ]
  },
  {
   "cell_type": "code",
   "execution_count": 51,
   "metadata": {},
   "outputs": [
    {
     "data": {
      "text/plain": [
       "2658708"
      ]
     },
     "execution_count": 51,
     "metadata": {},
     "output_type": "execute_result"
    }
   ],
   "source": [
    "# number of samples that contain text\n",
    "sum([x!='' for x in orig_sample['text']])"
   ]
  },
  {
   "cell_type": "code",
   "execution_count": 9,
   "metadata": {},
   "outputs": [
    {
     "data": {
      "text/plain": [
       "0.7477585872307394"
      ]
     },
     "execution_count": 9,
     "metadata": {},
     "output_type": "execute_result"
    }
   ],
   "source": [
    "2658708/3555570"
   ]
  },
  {
   "cell_type": "markdown",
   "metadata": {},
   "source": [
    "<font color='purple'>\n",
    "\n",
    "2.4.2 Distributions of number of characters and emojis\n",
    "    \n",
    "    Here I look at 'number of character' instead of 'number of words' because the number of character is a better measure of the effort people put into typing. "
   ]
  },
  {
   "cell_type": "code",
   "execution_count": 71,
   "metadata": {},
   "outputs": [
    {
     "data": {
      "text/plain": [
       "0        941262\n",
       "4        230125\n",
       "5        208348\n",
       "6        164039\n",
       "7        162917\n",
       "          ...  \n",
       "647           1\n",
       "646           1\n",
       "43245         1\n",
       "645           1\n",
       "1978          1\n",
       "Length: 785, dtype: int64"
      ]
     },
     "execution_count": 71,
     "metadata": {},
     "output_type": "execute_result"
    }
   ],
   "source": [
    "# distribution of number of characters\n",
    "\n",
    "countText=[len(x) for x in orig_sample['text']]\n",
    "\n",
    "pd.Series(countText).value_counts()"
   ]
  },
  {
   "cell_type": "code",
   "execution_count": 147,
   "metadata": {},
   "outputs": [
    {
     "data": {
      "text/plain": [
       "0      2261753\n",
       "1       777539\n",
       "2       242791\n",
       "3       162702\n",
       "4        69401\n",
       "        ...   \n",
       "261          1\n",
       "260          1\n",
       "258          1\n",
       "252          1\n",
       "149          1\n",
       "Length: 282, dtype: int64"
      ]
     },
     "execution_count": 147,
     "metadata": {},
     "output_type": "execute_result"
    }
   ],
   "source": [
    "# distribution of number of emojis\n",
    "\n",
    "countEmoji=[len(x) for x in orig_sample['emoji_token']]\n",
    "\n",
    "pd.Series(countEmoji).value_counts()"
   ]
  },
  {
   "cell_type": "markdown",
   "metadata": {},
   "source": [
    "<font color='purple'>\n",
    "\n",
    "2.4.3 Distribution of number of classified observations\n",
    "\n",
    "    Defining 'classified observations' as those contain in-dictionary words or emojis"
   ]
  },
  {
   "cell_type": "code",
   "execution_count": 148,
   "metadata": {},
   "outputs": [
    {
     "data": {
      "text/plain": [
       "1    1877856\n",
       "0    1349712\n",
       "2     318524\n",
       "3      46075\n",
       "4       6571\n",
       "5        980\n",
       "6        188\n",
       "7         39\n",
       "8         15\n",
       "9         10\n",
       "Name: number of classified, dtype: int64"
      ]
     },
     "execution_count": 148,
     "metadata": {},
     "output_type": "execute_result"
    }
   ],
   "source": [
    "result_df['number of classified'].value_counts()"
   ]
  },
  {
   "cell_type": "code",
   "execution_count": 89,
   "metadata": {},
   "outputs": [
    {
     "data": {
      "text/plain": [
       "0.09225018773361233"
      ]
     },
     "execution_count": 89,
     "metadata": {},
     "output_type": "execute_result"
    }
   ],
   "source": [
    "(3555570-1877856-1349712)/3555570"
   ]
  },
  {
   "cell_type": "code",
   "execution_count": 151,
   "metadata": {},
   "outputs": [
    {
     "data": {
      "text/plain": [
       "0.6203950421451413"
      ]
     },
     "execution_count": 151,
     "metadata": {},
     "output_type": "execute_result"
    }
   ],
   "source": [
    "1-1349712/3555570"
   ]
  },
  {
   "cell_type": "markdown",
   "metadata": {},
   "source": [
    "<font color='purple'>\n",
    "\n",
    "# 3. Build FastText model"
   ]
  },
  {
   "cell_type": "code",
   "execution_count": 9,
   "metadata": {},
   "outputs": [],
   "source": [
    "# fasttext training: clean text\n"
   ]
  },
  {
   "cell_type": "code",
   "execution_count": 3,
   "metadata": {},
   "outputs": [],
   "source": [
    "\n",
    "result=pd.read_csv('/Users/yichuan/Desktop/Venmo project/word classifier/output data/RESULT_DF.csv')\n"
   ]
  },
  {
   "cell_type": "code",
   "execution_count": 3,
   "metadata": {},
   "outputs": [
    {
     "data": {
      "text/html": [
       "<div>\n",
       "<style scoped>\n",
       "    .dataframe tbody tr th:only-of-type {\n",
       "        vertical-align: middle;\n",
       "    }\n",
       "\n",
       "    .dataframe tbody tr th {\n",
       "        vertical-align: top;\n",
       "    }\n",
       "\n",
       "    .dataframe thead th {\n",
       "        text-align: right;\n",
       "    }\n",
       "</style>\n",
       "<table border=\"1\" class=\"dataframe\">\n",
       "  <thead>\n",
       "    <tr style=\"text-align: right;\">\n",
       "      <th></th>\n",
       "      <th>Unnamed: 0</th>\n",
       "      <th>index</th>\n",
       "      <th>People</th>\n",
       "      <th>Food</th>\n",
       "      <th>Event</th>\n",
       "      <th>Activity</th>\n",
       "      <th>Travel</th>\n",
       "      <th>Transportation</th>\n",
       "      <th>Utility</th>\n",
       "      <th>Cash</th>\n",
       "      <th>Illegal/Sarcasm</th>\n",
       "      <th>number of classified</th>\n",
       "      <th>description</th>\n",
       "      <th>emoji_token</th>\n",
       "      <th>clean_text</th>\n",
       "    </tr>\n",
       "  </thead>\n",
       "  <tbody>\n",
       "    <tr>\n",
       "      <th>0</th>\n",
       "      <td>0</td>\n",
       "      <td>0</td>\n",
       "      <td>0</td>\n",
       "      <td>1</td>\n",
       "      <td>0</td>\n",
       "      <td>0</td>\n",
       "      <td>0</td>\n",
       "      <td>0</td>\n",
       "      <td>0</td>\n",
       "      <td>0</td>\n",
       "      <td>0</td>\n",
       "      <td>1</td>\n",
       "      <td>Costco</td>\n",
       "      <td>[]</td>\n",
       "      <td>['costco']</td>\n",
       "    </tr>\n",
       "    <tr>\n",
       "      <th>1</th>\n",
       "      <td>1</td>\n",
       "      <td>1</td>\n",
       "      <td>0</td>\n",
       "      <td>0</td>\n",
       "      <td>0</td>\n",
       "      <td>1</td>\n",
       "      <td>0</td>\n",
       "      <td>0</td>\n",
       "      <td>0</td>\n",
       "      <td>0</td>\n",
       "      <td>0</td>\n",
       "      <td>1</td>\n",
       "      <td>Sweaty balls</td>\n",
       "      <td>[]</td>\n",
       "      <td>['sweaty', 'ball']</td>\n",
       "    </tr>\n",
       "    <tr>\n",
       "      <th>2</th>\n",
       "      <td>2</td>\n",
       "      <td>2</td>\n",
       "      <td>0</td>\n",
       "      <td>0</td>\n",
       "      <td>1</td>\n",
       "      <td>0</td>\n",
       "      <td>0</td>\n",
       "      <td>0</td>\n",
       "      <td>0</td>\n",
       "      <td>0</td>\n",
       "      <td>0</td>\n",
       "      <td>1</td>\n",
       "      <td>🎥</td>\n",
       "      <td>['🎥']</td>\n",
       "      <td>['']</td>\n",
       "    </tr>\n",
       "    <tr>\n",
       "      <th>3</th>\n",
       "      <td>3</td>\n",
       "      <td>3</td>\n",
       "      <td>0</td>\n",
       "      <td>0</td>\n",
       "      <td>0</td>\n",
       "      <td>0</td>\n",
       "      <td>0</td>\n",
       "      <td>0</td>\n",
       "      <td>1</td>\n",
       "      <td>0</td>\n",
       "      <td>0</td>\n",
       "      <td>1</td>\n",
       "      <td>⚡</td>\n",
       "      <td>['⚡']</td>\n",
       "      <td>['']</td>\n",
       "    </tr>\n",
       "    <tr>\n",
       "      <th>4</th>\n",
       "      <td>4</td>\n",
       "      <td>4</td>\n",
       "      <td>0</td>\n",
       "      <td>0</td>\n",
       "      <td>0</td>\n",
       "      <td>0</td>\n",
       "      <td>0</td>\n",
       "      <td>0</td>\n",
       "      <td>0</td>\n",
       "      <td>0</td>\n",
       "      <td>0</td>\n",
       "      <td>0</td>\n",
       "      <td>Chipotlaid</td>\n",
       "      <td>[]</td>\n",
       "      <td>['chipotlaid']</td>\n",
       "    </tr>\n",
       "  </tbody>\n",
       "</table>\n",
       "</div>"
      ],
      "text/plain": [
       "   Unnamed: 0  index  People  Food  Event  Activity  Travel  Transportation  \\\n",
       "0           0      0       0     1      0         0       0               0   \n",
       "1           1      1       0     0      0         1       0               0   \n",
       "2           2      2       0     0      1         0       0               0   \n",
       "3           3      3       0     0      0         0       0               0   \n",
       "4           4      4       0     0      0         0       0               0   \n",
       "\n",
       "   Utility  Cash  Illegal/Sarcasm  number of classified   description  \\\n",
       "0        0     0                0                     1        Costco   \n",
       "1        0     0                0                     1  Sweaty balls   \n",
       "2        0     0                0                     1             🎥   \n",
       "3        1     0                0                     1             ⚡   \n",
       "4        0     0                0                     0    Chipotlaid   \n",
       "\n",
       "  emoji_token          clean_text  \n",
       "0          []          ['costco']  \n",
       "1          []  ['sweaty', 'ball']  \n",
       "2       ['🎥']                ['']  \n",
       "3       ['⚡']                ['']  \n",
       "4          []      ['chipotlaid']  "
      ]
     },
     "execution_count": 3,
     "metadata": {},
     "output_type": "execute_result"
    }
   ],
   "source": [
    "result.head()"
   ]
  },
  {
   "cell_type": "code",
   "execution_count": 4,
   "metadata": {},
   "outputs": [],
   "source": [
    "result['clean_text']=[re.sub(r'[\\'\\[\\] ]','',x).split(',') for x in result['clean_text']]\n"
   ]
  },
  {
   "cell_type": "code",
   "execution_count": 5,
   "metadata": {},
   "outputs": [],
   "source": [
    "text_list=list(result['clean_text'])"
   ]
  },
  {
   "cell_type": "code",
   "execution_count": 68,
   "metadata": {},
   "outputs": [],
   "source": [
    "# Model training\n",
    "\n",
    "### Parameters:\n",
    "# size: Dimensionality of the word vectors.\n",
    "# window: The maximum distance between the current and predicted word within a sentence.\n",
    "# min_count: The model ignores all words with total frequency lower than this.\n",
    "# workers: Use these many worker threads to train the model (=faster training with multicore machines).\n",
    "# min_n: Minimum length of char n-grams to be used for training word representations.\n",
    "# max_n: Max length of char ngrams to be used for training word representations.\n",
    "\n",
    "ft_clean = FastText(text_list, size=200, window=5, min_count=150, workers=4, min_n=3, max_n=10)"
   ]
  },
  {
   "cell_type": "code",
   "execution_count": 101,
   "metadata": {},
   "outputs": [
    {
     "data": {
      "text/plain": [
       "[('bge', 0.9215357303619385),\n",
       " ('sdge', 0.8941078186035156),\n",
       " ('xfinity', 0.8506375551223755),\n",
       " ('pgw', 0.8435612916946411),\n",
       " ('pepco', 0.8222055435180664),\n",
       " ('sewage', 0.8149155378341675),\n",
       " ('utils', 0.8075290322303772),\n",
       " ('peco', 0.804094135761261),\n",
       " ('entergy', 0.8040465116500854),\n",
       " ('verizon', 0.7912341952323914)]"
      ]
     },
     "execution_count": 101,
     "metadata": {},
     "output_type": "execute_result"
    }
   ],
   "source": [
    "ft_clean.wv.most_similar('pge') \n",
    "\n",
    "# almost all of them are energe companies(bge, sdge, xfinity, pgw, pepco, utils, peco, entergy)\n",
    "# only two excepts but highly related:\n",
    "# sewage(wastewater)\n",
    "# verizon(wireless product)"
   ]
  },
  {
   "cell_type": "code",
   "execution_count": 6,
   "metadata": {},
   "outputs": [],
   "source": [
    "ft_clean = FastText(text_list, size=50, window=5, min_count=150, workers=4, min_n=3, max_n=10)"
   ]
  },
  {
   "cell_type": "code",
   "execution_count": 11,
   "metadata": {},
   "outputs": [
    {
     "data": {
      "text/plain": [
       "[('bge', 0.9528211355209351),\n",
       " ('sdge', 0.9260073304176331),\n",
       " ('xfinity', 0.874472975730896),\n",
       " ('peco', 0.8674561977386475),\n",
       " ('utility', 0.8651200532913208),\n",
       " ('util', 0.8600059747695923),\n",
       " ('pepco', 0.8576865196228027),\n",
       " ('utils', 0.8558487892150879),\n",
       " ('cableinternet', 0.8535972833633423),\n",
       " ('pgw', 0.846127986907959)]"
      ]
     },
     "execution_count": 11,
     "metadata": {},
     "output_type": "execute_result"
    }
   ],
   "source": [
    "ft_clean.wv.most_similar('pge') \n"
   ]
  },
  {
   "cell_type": "code",
   "execution_count": 7,
   "metadata": {},
   "outputs": [],
   "source": [
    "ft_clean.save('v_cleaned_fast_model_50d')"
   ]
  },
  {
   "cell_type": "markdown",
   "metadata": {},
   "source": [
    "<font color='green'>\n",
    "    \n",
    "    \n",
    "### IMPORT pretrained fasttext model"
   ]
  },
  {
   "cell_type": "code",
   "execution_count": 28,
   "metadata": {},
   "outputs": [],
   "source": [
    "ft_clean = FastText.load('v_cleaned_fast_model_50d')"
   ]
  },
  {
   "cell_type": "code",
   "execution_count": null,
   "metadata": {},
   "outputs": [],
   "source": []
  },
  {
   "cell_type": "code",
   "execution_count": 8,
   "metadata": {},
   "outputs": [],
   "source": [
    "def avg_vec(x):\n",
    "    '''\n",
    "    Return the average vector of a list of tokens\n",
    "    Input: list\n",
    "    Output: list\n",
    "    '''\n",
    "    return sum([ft_clean.wv[word] for word in x])/len(x)"
   ]
  },
  {
   "cell_type": "markdown",
   "metadata": {},
   "source": [
    "<font color='purple'>\n",
    "\n",
    "# 4. Representing emojis as their linguistic description from EmojiNet"
   ]
  },
  {
   "cell_type": "code",
   "execution_count": 16,
   "metadata": {},
   "outputs": [],
   "source": [
    "# emojinet\n",
    "with open('/Users/yichuan/Desktop/Venmo project/data/emojiNet/emojis.json') as json_file:\n",
    "    emojiNet = json.load(json_file)"
   ]
  },
  {
   "cell_type": "code",
   "execution_count": 17,
   "metadata": {},
   "outputs": [],
   "source": [
    "emojiNet_df=pd.DataFrame(emojiNet)"
   ]
  },
  {
   "cell_type": "code",
   "execution_count": 18,
   "metadata": {},
   "outputs": [
    {
     "data": {
      "text/html": [
       "<div>\n",
       "<style scoped>\n",
       "    .dataframe tbody tr th:only-of-type {\n",
       "        vertical-align: middle;\n",
       "    }\n",
       "\n",
       "    .dataframe tbody tr th {\n",
       "        vertical-align: top;\n",
       "    }\n",
       "\n",
       "    .dataframe thead th {\n",
       "        text-align: right;\n",
       "    }\n",
       "</style>\n",
       "<table border=\"1\" class=\"dataframe\">\n",
       "  <thead>\n",
       "    <tr style=\"text-align: right;\">\n",
       "      <th></th>\n",
       "      <th>category</th>\n",
       "      <th>keywords</th>\n",
       "      <th>definition</th>\n",
       "      <th>unicode</th>\n",
       "      <th>name</th>\n",
       "      <th>shortcode</th>\n",
       "      <th>senses</th>\n",
       "    </tr>\n",
       "  </thead>\n",
       "  <tbody>\n",
       "    <tr>\n",
       "      <th>0</th>\n",
       "      <td>Miscellaneous Symbols And Pictographs -&gt; Emoji...</td>\n",
       "      <td>[dark skin tone, hand, forbidden, gesture, wom...</td>\n",
       "      <td>The Woman Gesturing Not OK, Type-6 emoji is a ...</td>\n",
       "      <td>U+1F645 U+1F3FF U+200D U+2640 U+FE0F</td>\n",
       "      <td>woman gesturing NO: dark skin tone</td>\n",
       "      <td>None</td>\n",
       "      <td>{'adjectives': [{'bn:00104562a': ['Contrary to...</td>\n",
       "    </tr>\n",
       "    <tr>\n",
       "      <th>1</th>\n",
       "      <td>Miscellaneous Symbols And Pictographs -&gt; Emoji...</td>\n",
       "      <td>[dark skin tone, woman, guard]</td>\n",
       "      <td>The Female Guard, Type-6 emoji is a sequence o...</td>\n",
       "      <td>U+1F482 U+1F3FF U+200D U+2640 U+FE0F</td>\n",
       "      <td>woman guard: dark skin tone</td>\n",
       "      <td>None</td>\n",
       "      <td>{'adjectives': [], 'verbs': [{'bn:00090041v': ...</td>\n",
       "    </tr>\n",
       "    <tr>\n",
       "      <th>2</th>\n",
       "      <td>None</td>\n",
       "      <td>[racing, running, woman, marathon]</td>\n",
       "      <td>The female version of the ?? Runner emoji. The...</td>\n",
       "      <td>U+1F3C3 U+200D U+2640 U+FE0F</td>\n",
       "      <td>woman running</td>\n",
       "      <td>None</td>\n",
       "      <td>{'adjectives': [{'bn:00109994a': ['Of advancin...</td>\n",
       "    </tr>\n",
       "    <tr>\n",
       "      <th>3</th>\n",
       "      <td>Miscellaneous Symbols And Pictographs -&gt; Emoji...</td>\n",
       "      <td>[gymnastics, medium-light skin tone, woman, ca...</td>\n",
       "      <td>The Woman Doing Cartwheel, Type-3 emoji is a s...</td>\n",
       "      <td>U+1F938 U+1F3FC U+200D U+2640 U+FE0F</td>\n",
       "      <td>woman cartwheeling: medium-light skin tone</td>\n",
       "      <td>None</td>\n",
       "      <td>{'adjectives': [], 'verbs': [{'bn:00084605v': ...</td>\n",
       "    </tr>\n",
       "    <tr>\n",
       "      <th>4</th>\n",
       "      <td>None</td>\n",
       "      <td>[woman, golf]</td>\n",
       "      <td>The female version of the ?? Golfer emoji. The...</td>\n",
       "      <td>U+1F3CC U+FE0F U+200D U+2640 U+FE0F</td>\n",
       "      <td>woman golfing</td>\n",
       "      <td>None</td>\n",
       "      <td>{'adjectives': [], 'verbs': [{'bn:00088979v': ...</td>\n",
       "    </tr>\n",
       "  </tbody>\n",
       "</table>\n",
       "</div>"
      ],
      "text/plain": [
       "                                            category  \\\n",
       "0  Miscellaneous Symbols And Pictographs -> Emoji...   \n",
       "1  Miscellaneous Symbols And Pictographs -> Emoji...   \n",
       "2                                               None   \n",
       "3  Miscellaneous Symbols And Pictographs -> Emoji...   \n",
       "4                                               None   \n",
       "\n",
       "                                            keywords  \\\n",
       "0  [dark skin tone, hand, forbidden, gesture, wom...   \n",
       "1                     [dark skin tone, woman, guard]   \n",
       "2                 [racing, running, woman, marathon]   \n",
       "3  [gymnastics, medium-light skin tone, woman, ca...   \n",
       "4                                      [woman, golf]   \n",
       "\n",
       "                                          definition  \\\n",
       "0  The Woman Gesturing Not OK, Type-6 emoji is a ...   \n",
       "1  The Female Guard, Type-6 emoji is a sequence o...   \n",
       "2  The female version of the ?? Runner emoji. The...   \n",
       "3  The Woman Doing Cartwheel, Type-3 emoji is a s...   \n",
       "4  The female version of the ?? Golfer emoji. The...   \n",
       "\n",
       "                                unicode  \\\n",
       "0  U+1F645 U+1F3FF U+200D U+2640 U+FE0F   \n",
       "1  U+1F482 U+1F3FF U+200D U+2640 U+FE0F   \n",
       "2          U+1F3C3 U+200D U+2640 U+FE0F   \n",
       "3  U+1F938 U+1F3FC U+200D U+2640 U+FE0F   \n",
       "4   U+1F3CC U+FE0F U+200D U+2640 U+FE0F   \n",
       "\n",
       "                                         name shortcode  \\\n",
       "0          woman gesturing NO: dark skin tone      None   \n",
       "1                 woman guard: dark skin tone      None   \n",
       "2                               woman running      None   \n",
       "3  woman cartwheeling: medium-light skin tone      None   \n",
       "4                               woman golfing      None   \n",
       "\n",
       "                                              senses  \n",
       "0  {'adjectives': [{'bn:00104562a': ['Contrary to...  \n",
       "1  {'adjectives': [], 'verbs': [{'bn:00090041v': ...  \n",
       "2  {'adjectives': [{'bn:00109994a': ['Of advancin...  \n",
       "3  {'adjectives': [], 'verbs': [{'bn:00084605v': ...  \n",
       "4  {'adjectives': [], 'verbs': [{'bn:00088979v': ...  "
      ]
     },
     "execution_count": 18,
     "metadata": {},
     "output_type": "execute_result"
    }
   ],
   "source": [
    "emojiNet_df.head()"
   ]
  },
  {
   "cell_type": "code",
   "execution_count": 29,
   "metadata": {},
   "outputs": [],
   "source": [
    "keywords_vector=pd.DataFrame([avg_vec(x) for x in emojiNet_df['keywords']])  # average vector of keywords"
   ]
  },
  {
   "cell_type": "code",
   "execution_count": 30,
   "metadata": {},
   "outputs": [],
   "source": [
    "keywords_vector['unicode']=emojiNet_df['unicode']"
   ]
  },
  {
   "cell_type": "code",
   "execution_count": 32,
   "metadata": {},
   "outputs": [],
   "source": [
    "keywords_vector.to_csv('output data/EMOJI_vector.csv')"
   ]
  },
  {
   "cell_type": "code",
   "execution_count": null,
   "metadata": {},
   "outputs": [],
   "source": [
    "keywords_vector=..."
   ]
  },
  {
   "cell_type": "code",
   "execution_count": 31,
   "metadata": {},
   "outputs": [],
   "source": [
    "keyword_dict=keywords_vector.set_index('unicode').T.to_dict('list')\n"
   ]
  },
  {
   "cell_type": "code",
   "execution_count": 19,
   "metadata": {},
   "outputs": [],
   "source": [
    "# recompute for 50-d vector\n",
    "keywords_vector=pd.DataFrame([avg_vec(x) for x in emojiNet_df['keywords']])  # average vector of keywords\n",
    "keywords_vector['unicode']=emojiNet_df['unicode']\n",
    "keywords_vector.to_csv('output data/EMOJI_vector_50d.csv')\n",
    "keyword_dict=keywords_vector.set_index('unicode').T.to_dict('list')\n"
   ]
  },
  {
   "cell_type": "markdown",
   "metadata": {},
   "source": [
    "<font color='green'>\n",
    "    \n",
    "    \n",
    "### IMPORT emoji vector"
   ]
  },
  {
   "cell_type": "code",
   "execution_count": 9,
   "metadata": {},
   "outputs": [],
   "source": [
    "keywords_vector = pd.read_csv('output data/EMOJI_vector_50d.csv')"
   ]
  },
  {
   "cell_type": "code",
   "execution_count": 28,
   "metadata": {},
   "outputs": [],
   "source": [
    "keywords_vector = keywords_vector.drop('Unnamed: 0',axis=1)"
   ]
  },
  {
   "cell_type": "code",
   "execution_count": 29,
   "metadata": {},
   "outputs": [],
   "source": [
    "keyword_dict=keywords_vector.set_index('unicode').T.to_dict('list')\n"
   ]
  },
  {
   "cell_type": "code",
   "execution_count": null,
   "metadata": {},
   "outputs": [],
   "source": []
  },
  {
   "cell_type": "markdown",
   "metadata": {},
   "source": [
    "<font color='purple'>\n",
    "\n",
    "# 5. Build logistic model"
   ]
  },
  {
   "cell_type": "code",
   "execution_count": null,
   "metadata": {},
   "outputs": [],
   "source": [
    "# trained on clean text"
   ]
  },
  {
   "cell_type": "markdown",
   "metadata": {},
   "source": [
    "<font color='purple'>\n",
    "\n",
    "5.1 Data preprocessing"
   ]
  },
  {
   "cell_type": "markdown",
   "metadata": {},
   "source": [
    "<font color='purple'>\n",
    "    \n",
    "5.1.1 Sebset uni-label data for training\n",
    "    \n",
    "    Some samples contain multiple keywords in different categories. That will make logistic model training much harder. So only keep those uni-label samples for training purpose."
   ]
  },
  {
   "cell_type": "code",
   "execution_count": 313,
   "metadata": {},
   "outputs": [],
   "source": [
    "# Create column: new_lst_of_lst\n",
    "# for vector computation\n",
    "\n",
    "orig_sample['new_lst_of_lst']=[[x,y] for x, y in zip(orig_sample['emoji_token'],orig_sample['clean_text'])]\n",
    "\n",
    "result_df['new_lst_of_lst']=orig_sample['new_lst_of_lst']"
   ]
  },
  {
   "cell_type": "code",
   "execution_count": 315,
   "metadata": {},
   "outputs": [],
   "source": [
    "## Dataset for logistic: all models (training and evaluation) is based on unilabel cases\n",
    "\n",
    "result_uni_label=result_df[(result_df['number of classified']==1)]"
   ]
  },
  {
   "cell_type": "code",
   "execution_count": 323,
   "metadata": {},
   "outputs": [
    {
     "data": {
      "text/plain": [
       "(1877856, 15)"
      ]
     },
     "execution_count": 323,
     "metadata": {},
     "output_type": "execute_result"
    }
   ],
   "source": [
    "result_uni_label.shape"
   ]
  },
  {
   "cell_type": "code",
   "execution_count": 27,
   "metadata": {},
   "outputs": [],
   "source": [
    "# The sample size is too large. Randomly choose 900,000 samples\n",
    "seed(1)\n",
    "\n",
    "sequence = [i for i in range(1877856)]\n",
    "\n",
    "subset = sample(sequence, 900000)"
   ]
  },
  {
   "cell_type": "code",
   "execution_count": 331,
   "metadata": {
    "scrolled": true
   },
   "outputs": [],
   "source": [
    "result_uni_label_=result_uni_label.iloc[subset,:]"
   ]
  },
  {
   "cell_type": "code",
   "execution_count": 332,
   "metadata": {},
   "outputs": [
    {
     "data": {
      "text/html": [
       "<div>\n",
       "<style scoped>\n",
       "    .dataframe tbody tr th:only-of-type {\n",
       "        vertical-align: middle;\n",
       "    }\n",
       "\n",
       "    .dataframe tbody tr th {\n",
       "        vertical-align: top;\n",
       "    }\n",
       "\n",
       "    .dataframe thead th {\n",
       "        text-align: right;\n",
       "    }\n",
       "</style>\n",
       "<table border=\"1\" class=\"dataframe\">\n",
       "  <thead>\n",
       "    <tr style=\"text-align: right;\">\n",
       "      <th></th>\n",
       "      <th>index</th>\n",
       "      <th>People</th>\n",
       "      <th>Food</th>\n",
       "      <th>Event</th>\n",
       "      <th>Activity</th>\n",
       "      <th>Travel</th>\n",
       "      <th>Transportation</th>\n",
       "      <th>Utility</th>\n",
       "      <th>Cash</th>\n",
       "      <th>Illegal/Sarcasm</th>\n",
       "      <th>number of classified</th>\n",
       "      <th>description</th>\n",
       "      <th>emoji_token</th>\n",
       "      <th>clean_text</th>\n",
       "      <th>new_lst_of_lst</th>\n",
       "    </tr>\n",
       "  </thead>\n",
       "  <tbody>\n",
       "    <tr>\n",
       "      <th>538968</th>\n",
       "      <td>538968</td>\n",
       "      <td>0</td>\n",
       "      <td>0</td>\n",
       "      <td>0</td>\n",
       "      <td>1</td>\n",
       "      <td>0</td>\n",
       "      <td>0</td>\n",
       "      <td>0</td>\n",
       "      <td>0</td>\n",
       "      <td>0</td>\n",
       "      <td>1</td>\n",
       "      <td>Sox</td>\n",
       "      <td>[]</td>\n",
       "      <td>[sox]</td>\n",
       "      <td>[[], [sox]]</td>\n",
       "    </tr>\n",
       "    <tr>\n",
       "      <th>2287078</th>\n",
       "      <td>2287078</td>\n",
       "      <td>0</td>\n",
       "      <td>1</td>\n",
       "      <td>0</td>\n",
       "      <td>0</td>\n",
       "      <td>0</td>\n",
       "      <td>0</td>\n",
       "      <td>0</td>\n",
       "      <td>0</td>\n",
       "      <td>0</td>\n",
       "      <td>1</td>\n",
       "      <td>🍔🍟</td>\n",
       "      <td>[🍔, 🍟]</td>\n",
       "      <td>[]</td>\n",
       "      <td>[[🍔, 🍟], []]</td>\n",
       "    </tr>\n",
       "    <tr>\n",
       "      <th>3406446</th>\n",
       "      <td>3406446</td>\n",
       "      <td>0</td>\n",
       "      <td>0</td>\n",
       "      <td>0</td>\n",
       "      <td>1</td>\n",
       "      <td>0</td>\n",
       "      <td>0</td>\n",
       "      <td>0</td>\n",
       "      <td>0</td>\n",
       "      <td>0</td>\n",
       "      <td>1</td>\n",
       "      <td>Ticket</td>\n",
       "      <td>[]</td>\n",
       "      <td>[ticket]</td>\n",
       "      <td>[[], [ticket]]</td>\n",
       "    </tr>\n",
       "    <tr>\n",
       "      <th>3225192</th>\n",
       "      <td>3225192</td>\n",
       "      <td>0</td>\n",
       "      <td>0</td>\n",
       "      <td>0</td>\n",
       "      <td>0</td>\n",
       "      <td>0</td>\n",
       "      <td>0</td>\n",
       "      <td>0</td>\n",
       "      <td>0</td>\n",
       "      <td>1</td>\n",
       "      <td>1</td>\n",
       "      <td>Blood transfusion</td>\n",
       "      <td>[]</td>\n",
       "      <td>[blood, transfusion]</td>\n",
       "      <td>[[], [blood, transfusion]]</td>\n",
       "    </tr>\n",
       "    <tr>\n",
       "      <th>3070350</th>\n",
       "      <td>3070350</td>\n",
       "      <td>0</td>\n",
       "      <td>1</td>\n",
       "      <td>0</td>\n",
       "      <td>0</td>\n",
       "      <td>0</td>\n",
       "      <td>0</td>\n",
       "      <td>0</td>\n",
       "      <td>0</td>\n",
       "      <td>0</td>\n",
       "      <td>1</td>\n",
       "      <td>🍗🍗🍗🍗🍗</td>\n",
       "      <td>[🍗, 🍗, 🍗, 🍗, 🍗]</td>\n",
       "      <td>[]</td>\n",
       "      <td>[[🍗, 🍗, 🍗, 🍗, 🍗], []]</td>\n",
       "    </tr>\n",
       "  </tbody>\n",
       "</table>\n",
       "</div>"
      ],
      "text/plain": [
       "           index  People  Food  Event  Activity  Travel  Transportation  \\\n",
       "538968    538968       0     0      0         1       0               0   \n",
       "2287078  2287078       0     1      0         0       0               0   \n",
       "3406446  3406446       0     0      0         1       0               0   \n",
       "3225192  3225192       0     0      0         0       0               0   \n",
       "3070350  3070350       0     1      0         0       0               0   \n",
       "\n",
       "         Utility  Cash  Illegal/Sarcasm  number of classified  \\\n",
       "538968         0     0                0                     1   \n",
       "2287078        0     0                0                     1   \n",
       "3406446        0     0                0                     1   \n",
       "3225192        0     0                1                     1   \n",
       "3070350        0     0                0                     1   \n",
       "\n",
       "               description      emoji_token            clean_text  \\\n",
       "538968                 Sox               []                 [sox]   \n",
       "2287078                 🍔🍟           [🍔, 🍟]                    []   \n",
       "3406446             Ticket               []              [ticket]   \n",
       "3225192  Blood transfusion               []  [blood, transfusion]   \n",
       "3070350              🍗🍗🍗🍗🍗  [🍗, 🍗, 🍗, 🍗, 🍗]                    []   \n",
       "\n",
       "                     new_lst_of_lst  \n",
       "538968                  [[], [sox]]  \n",
       "2287078                [[🍔, 🍟], []]  \n",
       "3406446              [[], [ticket]]  \n",
       "3225192  [[], [blood, transfusion]]  \n",
       "3070350       [[🍗, 🍗, 🍗, 🍗, 🍗], []]  "
      ]
     },
     "execution_count": 332,
     "metadata": {},
     "output_type": "execute_result"
    }
   ],
   "source": [
    "result_uni_label_.head()"
   ]
  },
  {
   "cell_type": "code",
   "execution_count": null,
   "metadata": {},
   "outputs": [],
   "source": []
  },
  {
   "cell_type": "markdown",
   "metadata": {},
   "source": [
    "------\n",
    "\n",
    "2/24"
   ]
  },
  {
   "cell_type": "code",
   "execution_count": 10,
   "metadata": {},
   "outputs": [],
   "source": [
    "### 50-d\n",
    "result['emoji_token']=[re.sub(r'[\\'\\[\\] ]','',x).split(',') for x in result['emoji_token']]\n"
   ]
  },
  {
   "cell_type": "code",
   "execution_count": 11,
   "metadata": {},
   "outputs": [],
   "source": [
    "result['new_lst_of_lst']=[[x,y] for x, y in zip(result['emoji_token'],result['clean_text'])]\n"
   ]
  },
  {
   "cell_type": "code",
   "execution_count": 12,
   "metadata": {},
   "outputs": [],
   "source": [
    "nuilabel=result[result['number of classified']==1]"
   ]
  },
  {
   "cell_type": "code",
   "execution_count": 13,
   "metadata": {},
   "outputs": [
    {
     "data": {
      "text/plain": [
       "(1877856, 16)"
      ]
     },
     "execution_count": 13,
     "metadata": {},
     "output_type": "execute_result"
    }
   ],
   "source": [
    "nuilabel.shape"
   ]
  },
  {
   "cell_type": "code",
   "execution_count": 14,
   "metadata": {},
   "outputs": [],
   "source": [
    "# The sample size is too large. Randomly choose 900,000 samples\n",
    "seed(1)\n",
    "\n",
    "sequence = [i for i in range(1877856)]\n",
    "\n",
    "subset = sample(sequence, 90000)"
   ]
  },
  {
   "cell_type": "code",
   "execution_count": 15,
   "metadata": {},
   "outputs": [],
   "source": [
    "uni_label=nuilabel.iloc[subset,:]"
   ]
  },
  {
   "cell_type": "code",
   "execution_count": 16,
   "metadata": {},
   "outputs": [],
   "source": [
    "training,testing=model_selection.train_test_split(uni_label,test_size = .2,random_state=1)"
   ]
  },
  {
   "cell_type": "code",
   "execution_count": 17,
   "metadata": {},
   "outputs": [
    {
     "data": {
      "text/plain": [
       "(72000, 16)"
      ]
     },
     "execution_count": 17,
     "metadata": {},
     "output_type": "execute_result"
    }
   ],
   "source": [
    "training.shape"
   ]
  },
  {
   "cell_type": "code",
   "execution_count": 30,
   "metadata": {},
   "outputs": [],
   "source": [
    "x_train=pd.DataFrame([convert_to_vector(x) for x in list(training['new_lst_of_lst'])])"
   ]
  },
  {
   "cell_type": "code",
   "execution_count": 31,
   "metadata": {},
   "outputs": [],
   "source": [
    "x_test=pd.DataFrame([convert_to_vector(x) for x in list(testing['new_lst_of_lst'])])"
   ]
  },
  {
   "cell_type": "code",
   "execution_count": 32,
   "metadata": {},
   "outputs": [
    {
     "name": "stderr",
     "output_type": "stream",
     "text": [
      "/anaconda3/lib/python3.7/site-packages/ipykernel_launcher.py:7: SettingWithCopyWarning: \n",
      "A value is trying to be set on a copy of a slice from a DataFrame.\n",
      "Try using .loc[row_indexer,col_indexer] = value instead\n",
      "\n",
      "See the caveats in the documentation: http://pandas.pydata.org/pandas-docs/stable/user_guide/indexing.html#returning-a-view-versus-a-copy\n",
      "  import sys\n",
      "/anaconda3/lib/python3.7/site-packages/ipykernel_launcher.py:8: SettingWithCopyWarning: \n",
      "A value is trying to be set on a copy of a slice from a DataFrame.\n",
      "Try using .loc[row_indexer,col_indexer] = value instead\n",
      "\n",
      "See the caveats in the documentation: http://pandas.pydata.org/pandas-docs/stable/user_guide/indexing.html#returning-a-view-versus-a-copy\n",
      "  \n",
      "/anaconda3/lib/python3.7/site-packages/ipykernel_launcher.py:9: SettingWithCopyWarning: \n",
      "A value is trying to be set on a copy of a slice from a DataFrame.\n",
      "Try using .loc[row_indexer,col_indexer] = value instead\n",
      "\n",
      "See the caveats in the documentation: http://pandas.pydata.org/pandas-docs/stable/user_guide/indexing.html#returning-a-view-versus-a-copy\n",
      "  if __name__ == '__main__':\n"
     ]
    },
    {
     "data": {
      "text/plain": [
       "{0: 'Activity',\n",
       " 1: 'Cash',\n",
       " 2: 'Event',\n",
       " 3: 'Food',\n",
       " 4: 'Illegal/Sarcasm',\n",
       " 5: 'People',\n",
       " 6: 'Transportation',\n",
       " 7: 'Travel',\n",
       " 8: 'Utility'}"
      ]
     },
     "execution_count": 32,
     "metadata": {},
     "output_type": "execute_result"
    }
   ],
   "source": [
    "# Create label vector: y\n",
    "\n",
    "c=['People', 'Food', 'Event', 'Activity', 'Travel', 'Transportation',\n",
    "       'Utility', 'Cash', 'Illegal/Sarcasm']\n",
    "y_train=training[c]\n",
    "\n",
    "y_train['label']=y_train.idxmax(axis=1)\n",
    "y_train[\"label\"] = y_train[\"label\"].astype('category')\n",
    "y_train[\"label_code\"] = y_train[\"label\"].cat.codes\n",
    "\n",
    "dict(enumerate(y_train[\"label\"].cat.categories))"
   ]
  },
  {
   "cell_type": "code",
   "execution_count": 33,
   "metadata": {},
   "outputs": [],
   "source": [
    "y_train=y_train.loc[:,'label_code']"
   ]
  },
  {
   "cell_type": "code",
   "execution_count": 34,
   "metadata": {},
   "outputs": [
    {
     "name": "stderr",
     "output_type": "stream",
     "text": [
      "/anaconda3/lib/python3.7/site-packages/ipykernel_launcher.py:7: SettingWithCopyWarning: \n",
      "A value is trying to be set on a copy of a slice from a DataFrame.\n",
      "Try using .loc[row_indexer,col_indexer] = value instead\n",
      "\n",
      "See the caveats in the documentation: http://pandas.pydata.org/pandas-docs/stable/user_guide/indexing.html#returning-a-view-versus-a-copy\n",
      "  import sys\n",
      "/anaconda3/lib/python3.7/site-packages/ipykernel_launcher.py:8: SettingWithCopyWarning: \n",
      "A value is trying to be set on a copy of a slice from a DataFrame.\n",
      "Try using .loc[row_indexer,col_indexer] = value instead\n",
      "\n",
      "See the caveats in the documentation: http://pandas.pydata.org/pandas-docs/stable/user_guide/indexing.html#returning-a-view-versus-a-copy\n",
      "  \n",
      "/anaconda3/lib/python3.7/site-packages/ipykernel_launcher.py:9: SettingWithCopyWarning: \n",
      "A value is trying to be set on a copy of a slice from a DataFrame.\n",
      "Try using .loc[row_indexer,col_indexer] = value instead\n",
      "\n",
      "See the caveats in the documentation: http://pandas.pydata.org/pandas-docs/stable/user_guide/indexing.html#returning-a-view-versus-a-copy\n",
      "  if __name__ == '__main__':\n"
     ]
    },
    {
     "data": {
      "text/plain": [
       "{0: 'Activity',\n",
       " 1: 'Cash',\n",
       " 2: 'Event',\n",
       " 3: 'Food',\n",
       " 4: 'Illegal/Sarcasm',\n",
       " 5: 'People',\n",
       " 6: 'Transportation',\n",
       " 7: 'Travel',\n",
       " 8: 'Utility'}"
      ]
     },
     "execution_count": 34,
     "metadata": {},
     "output_type": "execute_result"
    }
   ],
   "source": [
    "# Create label vector: y\n",
    "\n",
    "c=['People', 'Food', 'Event', 'Activity', 'Travel', 'Transportation',\n",
    "       'Utility', 'Cash', 'Illegal/Sarcasm']\n",
    "y_test=testing[c]\n",
    "\n",
    "y_test['label']=y_test.idxmax(axis=1)\n",
    "y_test[\"label\"] = y_test[\"label\"].astype('category')\n",
    "y_test[\"label_code\"] = y_test[\"label\"].cat.codes\n",
    "\n",
    "dict(enumerate(y_test[\"label\"].cat.categories))"
   ]
  },
  {
   "cell_type": "code",
   "execution_count": 35,
   "metadata": {},
   "outputs": [],
   "source": [
    "y_test=y_test.loc[:,'label_code']"
   ]
  },
  {
   "cell_type": "markdown",
   "metadata": {},
   "source": [
    "2/24\n",
    "\n",
    "jump to log reg model training\n",
    "\n",
    "-------"
   ]
  },
  {
   "cell_type": "code",
   "execution_count": null,
   "metadata": {},
   "outputs": [],
   "source": []
  },
  {
   "cell_type": "code",
   "execution_count": null,
   "metadata": {},
   "outputs": [],
   "source": []
  },
  {
   "cell_type": "code",
   "execution_count": null,
   "metadata": {},
   "outputs": [],
   "source": []
  },
  {
   "cell_type": "code",
   "execution_count": null,
   "metadata": {},
   "outputs": [],
   "source": []
  },
  {
   "cell_type": "markdown",
   "metadata": {},
   "source": [
    "<font color='purple'>\n",
    "\n",
    "5.1.2 True label"
   ]
  },
  {
   "cell_type": "code",
   "execution_count": 333,
   "metadata": {},
   "outputs": [],
   "source": [
    "# Create label vector: y\n",
    "c=['People', 'Food', 'Event', 'Activity', 'Travel', 'Transportation',\n",
    "       'Utility', 'Cash', 'Illegal/Sarcasm']\n",
    "y_dataset=result_uni_label_[c]"
   ]
  },
  {
   "cell_type": "code",
   "execution_count": 334,
   "metadata": {},
   "outputs": [
    {
     "name": "stderr",
     "output_type": "stream",
     "text": [
      "/anaconda3/lib/python3.7/site-packages/ipykernel_launcher.py:1: SettingWithCopyWarning: \n",
      "A value is trying to be set on a copy of a slice from a DataFrame.\n",
      "Try using .loc[row_indexer,col_indexer] = value instead\n",
      "\n",
      "See the caveats in the documentation: http://pandas.pydata.org/pandas-docs/stable/user_guide/indexing.html#returning-a-view-versus-a-copy\n",
      "  \"\"\"Entry point for launching an IPython kernel.\n",
      "/anaconda3/lib/python3.7/site-packages/ipykernel_launcher.py:2: SettingWithCopyWarning: \n",
      "A value is trying to be set on a copy of a slice from a DataFrame.\n",
      "Try using .loc[row_indexer,col_indexer] = value instead\n",
      "\n",
      "See the caveats in the documentation: http://pandas.pydata.org/pandas-docs/stable/user_guide/indexing.html#returning-a-view-versus-a-copy\n",
      "  \n",
      "/anaconda3/lib/python3.7/site-packages/ipykernel_launcher.py:3: SettingWithCopyWarning: \n",
      "A value is trying to be set on a copy of a slice from a DataFrame.\n",
      "Try using .loc[row_indexer,col_indexer] = value instead\n",
      "\n",
      "See the caveats in the documentation: http://pandas.pydata.org/pandas-docs/stable/user_guide/indexing.html#returning-a-view-versus-a-copy\n",
      "  This is separate from the ipykernel package so we can avoid doing imports until\n"
     ]
    },
    {
     "data": {
      "text/plain": [
       "{0: 'Activity',\n",
       " 1: 'Cash',\n",
       " 2: 'Event',\n",
       " 3: 'Food',\n",
       " 4: 'Illegal/Sarcasm',\n",
       " 5: 'People',\n",
       " 6: 'Transportation',\n",
       " 7: 'Travel',\n",
       " 8: 'Utility'}"
      ]
     },
     "execution_count": 334,
     "metadata": {},
     "output_type": "execute_result"
    }
   ],
   "source": [
    "\n",
    "# Reform y\n",
    "# convert one-hot to categorical variable\n",
    "y_dataset['label']=y_dataset.idxmax(axis=1)\n",
    "y_dataset[\"label\"] = y_dataset[\"label\"].astype('category')\n",
    "y_dataset[\"label_code\"] = y_dataset[\"label\"].cat.codes\n",
    "\n",
    "dict(enumerate(y_dataset[\"label\"].cat.categories))"
   ]
  },
  {
   "cell_type": "code",
   "execution_count": 335,
   "metadata": {},
   "outputs": [],
   "source": [
    "y_data=y_dataset.loc[:,'label_code']"
   ]
  },
  {
   "cell_type": "code",
   "execution_count": 336,
   "metadata": {
    "scrolled": true
   },
   "outputs": [],
   "source": [
    "# Split training and testing sets\n",
    "    \n",
    "training, testing, y_train, y_test = model_selection.train_test_split(result_uni_label_,y_data,test_size = .2,random_state=1)\n"
   ]
  },
  {
   "cell_type": "code",
   "execution_count": 337,
   "metadata": {},
   "outputs": [
    {
     "data": {
      "text/plain": [
       "((720000, 15), (180000, 15))"
      ]
     },
     "execution_count": 337,
     "metadata": {},
     "output_type": "execute_result"
    }
   ],
   "source": [
    "training.shape, testing.shape"
   ]
  },
  {
   "cell_type": "markdown",
   "metadata": {},
   "source": [
    "<font color='purple'>\n",
    "\n",
    "5.1.3 Feature extraction\n",
    "    \n",
    "    Features for the logistic model are the word embedding. So need to convert emojis and text to word vectors."
   ]
  },
  {
   "cell_type": "code",
   "execution_count": 19,
   "metadata": {},
   "outputs": [],
   "source": [
    "# Functions to convert emojis and text to vector, and return the average vector\n",
    "\n",
    "def decode_emoji(x):\n",
    "    '''\n",
    "    Return unicode of emoji\n",
    "    Input: string\n",
    "    Output: string\n",
    "    '''\n",
    "    d=[]\n",
    "    for i in x:\n",
    "        d.append('U+{:X}'.format(ord(i)))\n",
    "    return ' '.join(d)\n",
    "\n"
   ]
  },
  {
   "cell_type": "code",
   "execution_count": null,
   "metadata": {},
   "outputs": [],
   "source": [
    "# try except (for conver_to_vector func)"
   ]
  },
  {
   "cell_type": "code",
   "execution_count": 22,
   "metadata": {},
   "outputs": [
    {
     "data": {
      "text/plain": [
       "True"
      ]
     },
     "execution_count": 22,
     "metadata": {},
     "output_type": "execute_result"
    }
   ],
   "source": [
    "'U+1F645 U+1F3FF U+200D U+2640 U+FE0F' in keyword_dict.keys()"
   ]
  },
  {
   "cell_type": "code",
   "execution_count": null,
   "metadata": {},
   "outputs": [],
   "source": [
    "def emoji_vec_try(x):\n",
    "    try:\n",
    "        emoji_unicode=[decode_emoji(x) for x in emoji_list]\n",
    "        emoji_vector=sum([np.asarray(keyword_dict[x]) for x in emoji_unicode])\n",
    "    except KeyError:\n",
    "        emoji_list=[x for x in emoji_list if decode_emoji(x) in keyword_dict.keys()]\n",
    "        if emoji_l>0:\n",
    "            emoji_unicode=[decode_emoji(x) for x in emoji_list]\n",
    "            emoji_vector=sum([np.asarray(keyword_dict[x]) for x in emoji_unicode])\n",
    "        else:\n",
    "            emoji_vector=np.asarray([0]*200)"
   ]
  },
  {
   "cell_type": "code",
   "execution_count": 20,
   "metadata": {},
   "outputs": [],
   "source": [
    "def convert_to_vector(x):\n",
    "    '''\n",
    "    Convert emojis and text to vector and return the average vector\n",
    "    input: emoji token (list of two)(depends on 'new_lst_of_lst')\n",
    "    output: average vector of keywords\n",
    "    '''\n",
    "    emoji_list=x[0]\n",
    "    text_list=x[1]\n",
    "    emoji_l=len(emoji_list)\n",
    "    text_l=len(text_list)\n",
    "    \n",
    "    if text_l>0:\n",
    "        text_vector=sum([ft_clean.wv[word] for word in text_list])\n",
    "    else:\n",
    "        text_vector=np.asarray([0]*200)\n",
    "        \n",
    "    if emoji_l>0:\n",
    "        emoji_unicode=[decode_emoji(x) for x in emoji_list]\n",
    "        try:\n",
    "            emoji_vector=sum([np.asarray(keyword_dict[x]) for x in emoji_unicode])\n",
    "        except KeyError:\n",
    "            emoji_unicode=[x for x in emoji_unicode if x in keyword_dict.keys()]\n",
    "            if emoji_l>0:\n",
    "                emoji_vector=sum([np.asarray(keyword_dict[x]) for x in emoji_unicode])\n",
    "            else:\n",
    "                emoji_vector=np.asarray([0]*200)\n",
    "    else:\n",
    "        emoji_vector=np.asarray([0]*200)\n",
    "        \n",
    "    if (text_l>0) | (emoji_l>0): \n",
    "        \n",
    "        vector=(text_vector + emoji_vector)/(emoji_l+text_l)\n",
    "    else:\n",
    "        vector=np.asarray([0]*200)\n",
    "        \n",
    "    return vector"
   ]
  },
  {
   "cell_type": "code",
   "execution_count": null,
   "metadata": {},
   "outputs": [],
   "source": []
  },
  {
   "cell_type": "code",
   "execution_count": null,
   "metadata": {},
   "outputs": [],
   "source": []
  },
  {
   "cell_type": "code",
   "execution_count": null,
   "metadata": {},
   "outputs": [],
   "source": []
  },
  {
   "cell_type": "code",
   "execution_count": 339,
   "metadata": {
    "scrolled": true
   },
   "outputs": [],
   "source": [
    "x_clean_train=pd.DataFrame([convert_to_vector(x) for x in list(training['new_lst_of_lst'])])"
   ]
  },
  {
   "cell_type": "code",
   "execution_count": 340,
   "metadata": {
    "scrolled": true
   },
   "outputs": [],
   "source": [
    "x_clean_test=pd.DataFrame([convert_to_vector(x) for x in list(testing['new_lst_of_lst'])]) # done!"
   ]
  },
  {
   "cell_type": "code",
   "execution_count": 341,
   "metadata": {},
   "outputs": [
    {
     "data": {
      "text/plain": [
       "((720000, 200), (180000, 200))"
      ]
     },
     "execution_count": 341,
     "metadata": {},
     "output_type": "execute_result"
    }
   ],
   "source": [
    "x_clean_train.shape, x_clean_test.shape"
   ]
  },
  {
   "cell_type": "markdown",
   "metadata": {},
   "source": [
    "<font color='purple'>\n",
    "    \n",
    "5.2 Model training"
   ]
  },
  {
   "cell_type": "code",
   "execution_count": 347,
   "metadata": {},
   "outputs": [],
   "source": [
    "# Create one-vs-rest logistic regression object\n",
    "lreg_1 = LogisticRegression(random_state=0, multi_class='multinomial', solver='newton-cg')\n",
    "\n",
    "# Train model # feature_train, y_train\n",
    "model_1 = lreg_1.fit(x_clean_train, y_train)"
   ]
  },
  {
   "cell_type": "code",
   "execution_count": null,
   "metadata": {},
   "outputs": [],
   "source": []
  },
  {
   "cell_type": "code",
   "execution_count": null,
   "metadata": {},
   "outputs": [],
   "source": []
  },
  {
   "cell_type": "markdown",
   "metadata": {},
   "source": [
    "------\n",
    "\n",
    "2/24"
   ]
  },
  {
   "cell_type": "code",
   "execution_count": 36,
   "metadata": {},
   "outputs": [],
   "source": [
    "# 50-d\n",
    "\n",
    "# Create one-vs-rest logistic regression object\n",
    "lreg_1 = LogisticRegression(random_state=0, multi_class='multinomial', solver='newton-cg')\n",
    "\n",
    "# Train model # feature_train, y_train\n",
    "model_1 = lreg_1.fit(x_train, y_train)"
   ]
  },
  {
   "cell_type": "code",
   "execution_count": 37,
   "metadata": {},
   "outputs": [],
   "source": [
    "filename = 'logistic_model_c_50.sav'\n",
    "pickle.dump(model_1, open(filename, 'wb'))"
   ]
  },
  {
   "cell_type": "markdown",
   "metadata": {},
   "source": [
    "<font color='green'>\n",
    "    \n",
    "    \n",
    "### IMPORT pretrained log reg model"
   ]
  },
  {
   "cell_type": "code",
   "execution_count": null,
   "metadata": {},
   "outputs": [],
   "source": [
    "# load\n",
    "filename = 'Embed_Logistic_comb/logistic_model_c_50.sav'\n",
    "model_1 = pickle.load(open(filename, 'rb'))"
   ]
  },
  {
   "cell_type": "markdown",
   "metadata": {},
   "source": [
    "2/24\n",
    "\n",
    "------"
   ]
  },
  {
   "cell_type": "code",
   "execution_count": null,
   "metadata": {},
   "outputs": [],
   "source": []
  },
  {
   "cell_type": "code",
   "execution_count": null,
   "metadata": {},
   "outputs": [],
   "source": []
  },
  {
   "cell_type": "markdown",
   "metadata": {},
   "source": [
    "<font color='purple'>\n",
    "\n",
    "5.3 Model evaluating"
   ]
  },
  {
   "cell_type": "markdown",
   "metadata": {},
   "source": [
    "<font color='purple'>\n",
    "    \n",
    "5.3.1 Evaluating on uni-label samples"
   ]
  },
  {
   "cell_type": "code",
   "execution_count": 348,
   "metadata": {},
   "outputs": [],
   "source": [
    "y_pred=model_1.predict(x_clean_test)"
   ]
  },
  {
   "cell_type": "code",
   "execution_count": 349,
   "metadata": {},
   "outputs": [
    {
     "data": {
      "text/plain": [
       "0.9322833333333334"
      ]
     },
     "execution_count": 349,
     "metadata": {},
     "output_type": "execute_result"
    }
   ],
   "source": [
    "# accuracy\n",
    "\n",
    "score = model_1.score(x_clean_test, y_test)\n",
    "score"
   ]
  },
  {
   "cell_type": "code",
   "execution_count": 350,
   "metadata": {},
   "outputs": [
    {
     "data": {
      "text/plain": [
       "0.9319349521687875"
      ]
     },
     "execution_count": 350,
     "metadata": {},
     "output_type": "execute_result"
    }
   ],
   "source": [
    "# f1 score\n",
    "metrics.f1_score(y_test, y_pred,average='weighted')"
   ]
  },
  {
   "cell_type": "code",
   "execution_count": 351,
   "metadata": {},
   "outputs": [
    {
     "data": {
      "text/plain": [
       "array([[23220,     5,   184,   519,   266,   765,   146,   133,   251],\n",
       "       [   12,  1043,     2,    29,    15,    16,     1,    20,     5],\n",
       "       [  320,     1,  3619,   219,    57,   349,    62,    36,    56],\n",
       "       [  423,    22,    84, 64694,   337,   701,    43,    45,   287],\n",
       "       [  384,     9,    70,   634,  8621,   505,    79,    37,   123],\n",
       "       [  652,     9,   172,   604,   296, 23276,    26,    82,   208],\n",
       "       [  264,     3,    20,   110,    46,    78, 13383,    86,   119],\n",
       "       [  218,    12,    24,   107,    33,   255,   118,  4363,   169],\n",
       "       [  307,    11,    60,   304,   171,   231,    51,    91, 25592]])"
      ]
     },
     "execution_count": 351,
     "metadata": {},
     "output_type": "execute_result"
    }
   ],
   "source": [
    "# confusion matrix\n",
    "metrics.confusion_matrix(y_test, y_pred)\n"
   ]
  },
  {
   "cell_type": "code",
   "execution_count": null,
   "metadata": {},
   "outputs": [],
   "source": [
    "# auc score"
   ]
  },
  {
   "cell_type": "code",
   "execution_count": 352,
   "metadata": {},
   "outputs": [],
   "source": [
    "y_pred_prob=model_1.predict_proba(x_clean_test)"
   ]
  },
  {
   "cell_type": "code",
   "execution_count": 353,
   "metadata": {},
   "outputs": [
    {
     "data": {
      "text/plain": [
       "0.9938928917424595"
      ]
     },
     "execution_count": 353,
     "metadata": {},
     "output_type": "execute_result"
    }
   ],
   "source": [
    "metrics.roc_auc_score(y_test,y_pred_prob,average='macro',multi_class='ovr')"
   ]
  },
  {
   "cell_type": "code",
   "execution_count": 354,
   "metadata": {},
   "outputs": [
    {
     "data": {
      "text/plain": [
       "0.9947828738814659"
      ]
     },
     "execution_count": 354,
     "metadata": {},
     "output_type": "execute_result"
    }
   ],
   "source": [
    "metrics.roc_auc_score(y_test,y_pred_prob,average='weighted',multi_class='ovr')"
   ]
  },
  {
   "cell_type": "code",
   "execution_count": 355,
   "metadata": {},
   "outputs": [
    {
     "data": {
      "text/plain": [
       "0.9923139076499073"
      ]
     },
     "execution_count": 355,
     "metadata": {},
     "output_type": "execute_result"
    }
   ],
   "source": [
    "metrics.roc_auc_score(y_test,y_pred_prob,average='macro',multi_class='ovo')"
   ]
  },
  {
   "cell_type": "code",
   "execution_count": 356,
   "metadata": {},
   "outputs": [
    {
     "data": {
      "text/plain": [
       "0.9935639555325035"
      ]
     },
     "execution_count": 356,
     "metadata": {},
     "output_type": "execute_result"
    }
   ],
   "source": [
    "metrics.roc_auc_score(y_test,y_pred_prob,average='weighted',multi_class='ovo')"
   ]
  },
  {
   "cell_type": "markdown",
   "metadata": {},
   "source": [
    "------\n",
    "\n",
    "2/24"
   ]
  },
  {
   "cell_type": "code",
   "execution_count": 54,
   "metadata": {},
   "outputs": [
    {
     "data": {
      "text/plain": [
       "(0.8602777777777778, 0.8588270461186941)"
      ]
     },
     "execution_count": 54,
     "metadata": {},
     "output_type": "execute_result"
    }
   ],
   "source": [
    "# 50-d\n",
    "\n",
    "y_pred = model_1.predict(x_test)\n",
    "score = model_1.score(x_test, y_test)\n",
    "f1 = metrics.f1_score(y_test, y_pred,average='weighted')\n",
    "score,f1"
   ]
  },
  {
   "cell_type": "code",
   "execution_count": 55,
   "metadata": {},
   "outputs": [
    {
     "data": {
      "text/plain": [
       "0.9722245242828106"
      ]
     },
     "execution_count": 55,
     "metadata": {},
     "output_type": "execute_result"
    }
   ],
   "source": [
    "# 50-d\n",
    "\n",
    "y_pred_prob=model_1.predict_proba(x_test)\n",
    "metrics.roc_auc_score(y_test,y_pred_prob,average='macro',multi_class='ovr')"
   ]
  },
  {
   "cell_type": "code",
   "execution_count": null,
   "metadata": {},
   "outputs": [],
   "source": []
  },
  {
   "cell_type": "code",
   "execution_count": 56,
   "metadata": {},
   "outputs": [],
   "source": [
    "multi_label=result[(result['number of classified']>1)]"
   ]
  },
  {
   "cell_type": "code",
   "execution_count": 57,
   "metadata": {},
   "outputs": [],
   "source": [
    "multi_label=multi_label.reset_index()\n",
    "multi_label=multi_label.drop(['level_0'],axis=1)\n",
    "# Randomly select 200,000 samples\n",
    "sequence = [i for i in range(372402)]\n",
    "\n",
    "subset = sample(sequence, 20000)\n",
    "\n",
    "multi_label=multi_label.iloc[subset,:]"
   ]
  },
  {
   "cell_type": "code",
   "execution_count": 59,
   "metadata": {},
   "outputs": [],
   "source": [
    "c=['Activity', 'Cash', 'Event','Food','Illegal/Sarcasm', 'People', 'Transportation','Travel', 'Utility']\n",
    "y_multi_test=multi_label[c]\n",
    "\n",
    "y_multi_test=np.asarray(y_multi_test)"
   ]
  },
  {
   "cell_type": "code",
   "execution_count": 60,
   "metadata": {},
   "outputs": [],
   "source": [
    "x_multi_test=pd.DataFrame([convert_to_vector(x) for x in multi_label['new_lst_of_lst']])"
   ]
  },
  {
   "cell_type": "code",
   "execution_count": 61,
   "metadata": {},
   "outputs": [],
   "source": [
    "y_multi_pred=model_1.predict(x_multi_test)\n",
    "y_multi_pred_prob=model_1.predict_proba(x_multi_test)"
   ]
  },
  {
   "cell_type": "code",
   "execution_count": 62,
   "metadata": {},
   "outputs": [
    {
     "data": {
      "text/plain": [
       "0.8606582710967167"
      ]
     },
     "execution_count": 62,
     "metadata": {},
     "output_type": "execute_result"
    }
   ],
   "source": [
    "metrics.roc_auc_score(y_multi_test, y_multi_pred_prob, average='macro', multi_class='ovr')"
   ]
  },
  {
   "cell_type": "markdown",
   "metadata": {},
   "source": [
    "2/24\n",
    "\n",
    "------"
   ]
  },
  {
   "cell_type": "code",
   "execution_count": null,
   "metadata": {},
   "outputs": [],
   "source": []
  },
  {
   "cell_type": "code",
   "execution_count": null,
   "metadata": {},
   "outputs": [],
   "source": []
  },
  {
   "cell_type": "code",
   "execution_count": 357,
   "metadata": {},
   "outputs": [],
   "source": [
    "# ruc curve"
   ]
  },
  {
   "cell_type": "code",
   "execution_count": 362,
   "metadata": {},
   "outputs": [],
   "source": [
    "y = preprocessing.label_binarize(y_test, classes=[0, 1, 2,3,4,5,6,7,8])\n",
    "\n",
    "y_score = model_1.decision_function(x_clean_test)"
   ]
  },
  {
   "cell_type": "code",
   "execution_count": 364,
   "metadata": {},
   "outputs": [],
   "source": [
    "fpr = dict()\n",
    "tpr = dict()\n",
    "roc_auc = dict()\n",
    "for i in range(9):\n",
    "    fpr[i], tpr[i], _ = metrics.roc_curve(y[:, i], y_score[:, i])\n",
    "    roc_auc[i] = metrics.auc(fpr[i], tpr[i])"
   ]
  },
  {
   "cell_type": "code",
   "execution_count": 365,
   "metadata": {},
   "outputs": [],
   "source": [
    "## from the official document\n",
    "fpr[\"micro\"], tpr[\"micro\"], _ = metrics.roc_curve(y.ravel(), y_score.ravel())\n",
    "roc_auc[\"micro\"] = metrics.auc(fpr[\"micro\"], tpr[\"micro\"])"
   ]
  },
  {
   "cell_type": "code",
   "execution_count": 369,
   "metadata": {},
   "outputs": [
    {
     "data": {
      "image/png": "[encoded data removed]",
      "text/plain": [
       "<Figure size 432x288 with 1 Axes>"
      ]
     },
     "metadata": {
      "needs_background": "light"
     },
     "output_type": "display_data"
    }
   ],
   "source": [
    "# First aggregate all false positive rates\n",
    "all_fpr = np.unique(np.concatenate([fpr[i] for i in range(9)]))\n",
    "\n",
    "# Then interpolate all ROC curves at this points\n",
    "mean_tpr = np.zeros_like(all_fpr)\n",
    "for i in range(9):\n",
    "    mean_tpr += interp(all_fpr, fpr[i], tpr[i])\n",
    "\n",
    "# Finally average it and compute AUC\n",
    "mean_tpr /= 9\n",
    "\n",
    "fpr[\"macro\"] = all_fpr\n",
    "tpr[\"macro\"] = mean_tpr\n",
    "roc_auc[\"macro\"] = metrics.auc(fpr[\"macro\"], tpr[\"macro\"])\n",
    "\n",
    "# Plot all ROC curves\n",
    "plt.figure()\n",
    "plt.plot(fpr[\"micro\"], tpr[\"micro\"],\n",
    "         label='micro-average ROC curve (area = {0:0.2f})'\n",
    "               ''.format(roc_auc[\"micro\"]),\n",
    "         color='deeppink', linestyle=':', linewidth=4)\n",
    "\n",
    "plt.plot(fpr[\"macro\"], tpr[\"macro\"],\n",
    "         label='macro-average ROC curve (area = {0:0.2f})'\n",
    "               ''.format(roc_auc[\"macro\"]),\n",
    "         color='navy', linestyle=':', linewidth=4)\n",
    "\n",
    "colors = cycle(['aqua', 'darkorange', 'cornflowerblue'])\n",
    "lw=2\n",
    "for i, color in zip(range(9), colors):\n",
    "    plt.plot(fpr[i], tpr[i], color=color, lw=lw,\n",
    "             label='ROC curve of class {0} (area = {1:0.2f})'\n",
    "             ''.format(i, roc_auc[i]))\n",
    "\n",
    "plt.plot([0, 1], [0, 1], 'k--', lw=lw)\n",
    "plt.xlim([0.0, 1.0])\n",
    "plt.ylim([0.0, 1.05])\n",
    "plt.xlabel('False Positive Rate')\n",
    "plt.ylabel('True Positive Rate')\n",
    "plt.title('Some extension of Receiver operating characteristic to multi-class')\n",
    "plt.legend(loc=\"lower right\")\n",
    "plt.show()"
   ]
  },
  {
   "cell_type": "markdown",
   "metadata": {},
   "source": [
    "<font color='purple'>\n",
    "\n",
    "5.3.2 Evaluating on multi-lable samples"
   ]
  },
  {
   "cell_type": "markdown",
   "metadata": {},
   "source": [
    "<font color='purple'>\n",
    "\n",
    "5.3.2.1 Subset samples with multi-label"
   ]
  },
  {
   "cell_type": "code",
   "execution_count": 370,
   "metadata": {},
   "outputs": [],
   "source": [
    "# \n",
    "result_multi_label=result_df[(result_df['number of classified']>1)]"
   ]
  },
  {
   "cell_type": "code",
   "execution_count": 371,
   "metadata": {},
   "outputs": [
    {
     "data": {
      "text/plain": [
       "(372402, 15)"
      ]
     },
     "execution_count": 371,
     "metadata": {},
     "output_type": "execute_result"
    }
   ],
   "source": [
    "result_multi_label.shape"
   ]
  },
  {
   "cell_type": "code",
   "execution_count": 373,
   "metadata": {},
   "outputs": [],
   "source": [
    "result_multi_label=result_multi_label.reset_index()"
   ]
  },
  {
   "cell_type": "code",
   "execution_count": 375,
   "metadata": {},
   "outputs": [],
   "source": [
    "result_multi_label=result_multi_label.drop(['level_0'],axis=1)"
   ]
  },
  {
   "cell_type": "code",
   "execution_count": 378,
   "metadata": {},
   "outputs": [],
   "source": [
    "\n",
    "# Randomly select 200,000 samples\n",
    "sequence = [i for i in range(372402)]\n",
    "\n",
    "subset = sample(sequence, 200000)\n",
    "\n",
    "result_multi_label_test=result_multi_label.iloc[subset,:]"
   ]
  },
  {
   "cell_type": "markdown",
   "metadata": {},
   "source": [
    "<font color='purple'>\n",
    "\n",
    "5.3.2.2 Data preprocessing"
   ]
  },
  {
   "cell_type": "code",
   "execution_count": 379,
   "metadata": {},
   "outputs": [],
   "source": [
    "# dataset for training\n",
    "# \n",
    "c=['Activity', 'Cash', 'Event','Food','Illegal/Sarcasm', 'People', 'Transportation','Travel', 'Utility']\n",
    "y_dataset=result_multi_label_test[c]\n",
    "\n",
    "y=np.asarray(y_dataset)"
   ]
  },
  {
   "cell_type": "code",
   "execution_count": 384,
   "metadata": {
    "scrolled": true
   },
   "outputs": [],
   "source": [
    "x_multi_test=pd.DataFrame([convert_to_vector(x) for x in result_multi_label_test['new_lst_of_lst']])"
   ]
  },
  {
   "cell_type": "code",
   "execution_count": 385,
   "metadata": {},
   "outputs": [],
   "source": [
    "y_multi_pred=model_1.predict(x_multi_test)\n",
    "y_multi_pred_prob=model_1.predict_proba(x_multi_test)"
   ]
  },
  {
   "cell_type": "markdown",
   "metadata": {},
   "source": [
    "<font color='purple'>\n",
    "    \n",
    "5.3.2.3 Evaluation"
   ]
  },
  {
   "cell_type": "code",
   "execution_count": 386,
   "metadata": {},
   "outputs": [
    {
     "data": {
      "text/plain": [
       "0.8662228175564667"
      ]
     },
     "execution_count": 386,
     "metadata": {},
     "output_type": "execute_result"
    }
   ],
   "source": [
    "# auc score\n",
    "metrics.roc_auc_score(y, y_multi_pred_prob, average='macro', multi_class='ovr')"
   ]
  },
  {
   "cell_type": "code",
   "execution_count": 387,
   "metadata": {},
   "outputs": [
    {
     "data": {
      "text/plain": [
       "0.8683244251228978"
      ]
     },
     "execution_count": 387,
     "metadata": {},
     "output_type": "execute_result"
    }
   ],
   "source": [
    "metrics.roc_auc_score(y, y_multi_pred_prob, average='weighted', multi_class='ovr')"
   ]
  },
  {
   "cell_type": "code",
   "execution_count": 388,
   "metadata": {},
   "outputs": [
    {
     "data": {
      "text/plain": [
       "0.8683244251228978"
      ]
     },
     "execution_count": 388,
     "metadata": {},
     "output_type": "execute_result"
    }
   ],
   "source": [
    "metrics.roc_auc_score(y, y_multi_pred_prob, average='weighted', multi_class='ovo')"
   ]
  },
  {
   "cell_type": "code",
   "execution_count": 389,
   "metadata": {},
   "outputs": [
    {
     "data": {
      "text/plain": [
       "0.8662228175564667"
      ]
     },
     "execution_count": 389,
     "metadata": {},
     "output_type": "execute_result"
    }
   ],
   "source": [
    "metrics.roc_auc_score(y, y_multi_pred_prob, average='macro', multi_class='ovo')"
   ]
  },
  {
   "cell_type": "code",
   "execution_count": 390,
   "metadata": {},
   "outputs": [],
   "source": [
    "# ruc curve\n",
    "y_score_m = model_1.decision_function(x_multi_test)"
   ]
  },
  {
   "cell_type": "code",
   "execution_count": 391,
   "metadata": {},
   "outputs": [],
   "source": [
    "fpr = dict()\n",
    "tpr = dict()\n",
    "roc_auc = dict()\n",
    "for i in range(9):\n",
    "    fpr[i], tpr[i], _ = metrics.roc_curve(y[:, i], y_score_m[:, i])\n",
    "    roc_auc[i] = metrics.auc(fpr[i], tpr[i])"
   ]
  },
  {
   "cell_type": "code",
   "execution_count": 392,
   "metadata": {},
   "outputs": [],
   "source": [
    "fpr[\"micro\"], tpr[\"micro\"], _ = metrics.roc_curve(y.ravel(), y_score_m.ravel())\n",
    "roc_auc[\"micro\"] = metrics.auc(fpr[\"micro\"], tpr[\"micro\"])"
   ]
  },
  {
   "cell_type": "code",
   "execution_count": 393,
   "metadata": {},
   "outputs": [
    {
     "data": {
      "image/png": "[encoded data removed]",
      "text/plain": [
       "<Figure size 432x288 with 1 Axes>"
      ]
     },
     "metadata": {
      "needs_background": "light"
     },
     "output_type": "display_data"
    }
   ],
   "source": [
    "# First aggregate all false positive rates\n",
    "all_fpr = np.unique(np.concatenate([fpr[i] for i in range(9)]))\n",
    "\n",
    "# Then interpolate all ROC curves at this points\n",
    "mean_tpr = np.zeros_like(all_fpr)\n",
    "for i in range(9):\n",
    "    mean_tpr += interp(all_fpr, fpr[i], tpr[i])\n",
    "\n",
    "# Finally average it and compute AUC\n",
    "mean_tpr /= 9\n",
    "\n",
    "fpr[\"macro\"] = all_fpr\n",
    "tpr[\"macro\"] = mean_tpr\n",
    "roc_auc[\"macro\"] = metrics.auc(fpr[\"macro\"], tpr[\"macro\"])\n",
    "\n",
    "# Plot all ROC curves\n",
    "plt.figure()\n",
    "plt.plot(fpr[\"micro\"], tpr[\"micro\"],\n",
    "         label='micro-average ROC curve (area = {0:0.2f})'\n",
    "               ''.format(roc_auc[\"micro\"]),\n",
    "         color='deeppink', linestyle=':', linewidth=4)\n",
    "\n",
    "plt.plot(fpr[\"macro\"], tpr[\"macro\"],\n",
    "         label='macro-average ROC curve (area = {0:0.2f})'\n",
    "               ''.format(roc_auc[\"macro\"]),\n",
    "         color='navy', linestyle=':', linewidth=4)\n",
    "\n",
    "colors = cycle(['aqua', 'darkorange', 'cornflowerblue'])\n",
    "for i, color in zip(range(9), colors):\n",
    "    plt.plot(fpr[i], tpr[i], color=color, lw=lw,\n",
    "             label='ROC curve of class {0} (area = {1:0.2f})'\n",
    "             ''.format(i, roc_auc[i]))\n",
    "\n",
    "plt.plot([0, 1], [0, 1], 'k--', lw=lw)\n",
    "plt.xlim([0.0, 1.0])\n",
    "plt.ylim([0.0, 1.05])\n",
    "plt.xlabel('False Positive Rate')\n",
    "plt.ylabel('True Positive Rate')\n",
    "plt.title('Some extension of Receiver operating characteristic to multi-class')\n",
    "plt.legend(loc=\"lower right\")\n",
    "plt.show()"
   ]
  },
  {
   "cell_type": "code",
   "execution_count": null,
   "metadata": {},
   "outputs": [],
   "source": []
  },
  {
   "cell_type": "code",
   "execution_count": null,
   "metadata": {},
   "outputs": [],
   "source": [
    "# before evaluate on clean text"
   ]
  },
  {
   "cell_type": "code",
   "execution_count": null,
   "metadata": {},
   "outputs": [],
   "source": [
    "# now evaluate on simple cleaned text"
   ]
  },
  {
   "cell_type": "code",
   "execution_count": 4,
   "metadata": {},
   "outputs": [],
   "source": [
    "result=pd.read_csv('/Users/yichuan/Desktop/Venmo project/word classifier/output data/RESULT_DF.csv')"
   ]
  },
  {
   "cell_type": "code",
   "execution_count": 10,
   "metadata": {},
   "outputs": [
    {
     "data": {
      "text/html": [
       "<div>\n",
       "<style scoped>\n",
       "    .dataframe tbody tr th:only-of-type {\n",
       "        vertical-align: middle;\n",
       "    }\n",
       "\n",
       "    .dataframe tbody tr th {\n",
       "        vertical-align: top;\n",
       "    }\n",
       "\n",
       "    .dataframe thead th {\n",
       "        text-align: right;\n",
       "    }\n",
       "</style>\n",
       "<table border=\"1\" class=\"dataframe\">\n",
       "  <thead>\n",
       "    <tr style=\"text-align: right;\">\n",
       "      <th></th>\n",
       "      <th>Unnamed: 0</th>\n",
       "      <th>index</th>\n",
       "      <th>People</th>\n",
       "      <th>Food</th>\n",
       "      <th>Event</th>\n",
       "      <th>Activity</th>\n",
       "      <th>Travel</th>\n",
       "      <th>Transportation</th>\n",
       "      <th>Utility</th>\n",
       "      <th>Cash</th>\n",
       "      <th>Illegal/Sarcasm</th>\n",
       "      <th>number of classified</th>\n",
       "      <th>description</th>\n",
       "      <th>emoji_token</th>\n",
       "      <th>clean_text</th>\n",
       "    </tr>\n",
       "  </thead>\n",
       "  <tbody>\n",
       "    <tr>\n",
       "      <th>0</th>\n",
       "      <td>0</td>\n",
       "      <td>0</td>\n",
       "      <td>0</td>\n",
       "      <td>1</td>\n",
       "      <td>0</td>\n",
       "      <td>0</td>\n",
       "      <td>0</td>\n",
       "      <td>0</td>\n",
       "      <td>0</td>\n",
       "      <td>0</td>\n",
       "      <td>0</td>\n",
       "      <td>1</td>\n",
       "      <td>Costco</td>\n",
       "      <td>[]</td>\n",
       "      <td>['costco']</td>\n",
       "    </tr>\n",
       "    <tr>\n",
       "      <th>1</th>\n",
       "      <td>1</td>\n",
       "      <td>1</td>\n",
       "      <td>0</td>\n",
       "      <td>0</td>\n",
       "      <td>0</td>\n",
       "      <td>1</td>\n",
       "      <td>0</td>\n",
       "      <td>0</td>\n",
       "      <td>0</td>\n",
       "      <td>0</td>\n",
       "      <td>0</td>\n",
       "      <td>1</td>\n",
       "      <td>Sweaty balls</td>\n",
       "      <td>[]</td>\n",
       "      <td>['sweaty', 'ball']</td>\n",
       "    </tr>\n",
       "    <tr>\n",
       "      <th>2</th>\n",
       "      <td>2</td>\n",
       "      <td>2</td>\n",
       "      <td>0</td>\n",
       "      <td>0</td>\n",
       "      <td>1</td>\n",
       "      <td>0</td>\n",
       "      <td>0</td>\n",
       "      <td>0</td>\n",
       "      <td>0</td>\n",
       "      <td>0</td>\n",
       "      <td>0</td>\n",
       "      <td>1</td>\n",
       "      <td>🎥</td>\n",
       "      <td>['🎥']</td>\n",
       "      <td>['']</td>\n",
       "    </tr>\n",
       "    <tr>\n",
       "      <th>3</th>\n",
       "      <td>3</td>\n",
       "      <td>3</td>\n",
       "      <td>0</td>\n",
       "      <td>0</td>\n",
       "      <td>0</td>\n",
       "      <td>0</td>\n",
       "      <td>0</td>\n",
       "      <td>0</td>\n",
       "      <td>1</td>\n",
       "      <td>0</td>\n",
       "      <td>0</td>\n",
       "      <td>1</td>\n",
       "      <td>⚡</td>\n",
       "      <td>['⚡']</td>\n",
       "      <td>['']</td>\n",
       "    </tr>\n",
       "    <tr>\n",
       "      <th>4</th>\n",
       "      <td>4</td>\n",
       "      <td>4</td>\n",
       "      <td>0</td>\n",
       "      <td>0</td>\n",
       "      <td>0</td>\n",
       "      <td>0</td>\n",
       "      <td>0</td>\n",
       "      <td>0</td>\n",
       "      <td>0</td>\n",
       "      <td>0</td>\n",
       "      <td>0</td>\n",
       "      <td>0</td>\n",
       "      <td>Chipotlaid</td>\n",
       "      <td>[]</td>\n",
       "      <td>['chipotlaid']</td>\n",
       "    </tr>\n",
       "  </tbody>\n",
       "</table>\n",
       "</div>"
      ],
      "text/plain": [
       "   Unnamed: 0  index  People  Food  Event  Activity  Travel  Transportation  \\\n",
       "0           0      0       0     1      0         0       0               0   \n",
       "1           1      1       0     0      0         1       0               0   \n",
       "2           2      2       0     0      1         0       0               0   \n",
       "3           3      3       0     0      0         0       0               0   \n",
       "4           4      4       0     0      0         0       0               0   \n",
       "\n",
       "   Utility  Cash  Illegal/Sarcasm  number of classified   description  \\\n",
       "0        0     0                0                     1        Costco   \n",
       "1        0     0                0                     1  Sweaty balls   \n",
       "2        0     0                0                     1             🎥   \n",
       "3        1     0                0                     1             ⚡   \n",
       "4        0     0                0                     0    Chipotlaid   \n",
       "\n",
       "  emoji_token          clean_text  \n",
       "0          []          ['costco']  \n",
       "1          []  ['sweaty', 'ball']  \n",
       "2       ['🎥']                ['']  \n",
       "3       ['⚡']                ['']  \n",
       "4          []      ['chipotlaid']  "
      ]
     },
     "execution_count": 10,
     "metadata": {},
     "output_type": "execute_result"
    }
   ],
   "source": [
    "result.head()"
   ]
  },
  {
   "cell_type": "code",
   "execution_count": 11,
   "metadata": {},
   "outputs": [
    {
     "data": {
      "text/plain": [
       "(3599970, 15)"
      ]
     },
     "execution_count": 11,
     "metadata": {},
     "output_type": "execute_result"
    }
   ],
   "source": [
    "result.shape"
   ]
  },
  {
   "cell_type": "code",
   "execution_count": null,
   "metadata": {},
   "outputs": [],
   "source": []
  },
  {
   "cell_type": "code",
   "execution_count": 5,
   "metadata": {},
   "outputs": [],
   "source": [
    "# 1. Remove punctuations\n",
    "# or the puctuations would be treated as emoji\n",
    "punctuations = '~|`|\\!|@|#|$|%|^|&|\\*|\\(|\\)|-|\\+|=|_|\\{|\\}|\\[|\\]|;|:|\\?|\\.|,|<|>|/|\\'|\\\"'\n",
    "result['desc_punc_remove'] = [re.sub(punctuations,'',x) for x in result['description']]"
   ]
  },
  {
   "cell_type": "code",
   "execution_count": 6,
   "metadata": {},
   "outputs": [],
   "source": [
    "result['text']=[re.sub('[^\\w\\s]','',x) for x in result['desc_punc_remove']]"
   ]
  },
  {
   "cell_type": "code",
   "execution_count": null,
   "metadata": {},
   "outputs": [],
   "source": []
  },
  {
   "cell_type": "code",
   "execution_count": 13,
   "metadata": {},
   "outputs": [],
   "source": [
    "unilabel_set=result[(result['number of classified']==1)]"
   ]
  },
  {
   "cell_type": "code",
   "execution_count": 14,
   "metadata": {},
   "outputs": [
    {
     "data": {
      "text/plain": [
       "(1877856, 17)"
      ]
     },
     "execution_count": 14,
     "metadata": {},
     "output_type": "execute_result"
    }
   ],
   "source": [
    "unilabel_set.shape"
   ]
  },
  {
   "cell_type": "code",
   "execution_count": 16,
   "metadata": {},
   "outputs": [
    {
     "data": {
      "text/html": [
       "<div>\n",
       "<style scoped>\n",
       "    .dataframe tbody tr th:only-of-type {\n",
       "        vertical-align: middle;\n",
       "    }\n",
       "\n",
       "    .dataframe tbody tr th {\n",
       "        vertical-align: top;\n",
       "    }\n",
       "\n",
       "    .dataframe thead th {\n",
       "        text-align: right;\n",
       "    }\n",
       "</style>\n",
       "<table border=\"1\" class=\"dataframe\">\n",
       "  <thead>\n",
       "    <tr style=\"text-align: right;\">\n",
       "      <th></th>\n",
       "      <th>Unnamed: 0</th>\n",
       "      <th>index</th>\n",
       "      <th>People</th>\n",
       "      <th>Food</th>\n",
       "      <th>Event</th>\n",
       "      <th>Activity</th>\n",
       "      <th>Travel</th>\n",
       "      <th>Transportation</th>\n",
       "      <th>Utility</th>\n",
       "      <th>Cash</th>\n",
       "      <th>Illegal/Sarcasm</th>\n",
       "      <th>number of classified</th>\n",
       "      <th>description</th>\n",
       "      <th>emoji_token</th>\n",
       "      <th>clean_text</th>\n",
       "      <th>desc_punc_remove</th>\n",
       "      <th>text</th>\n",
       "    </tr>\n",
       "  </thead>\n",
       "  <tbody>\n",
       "    <tr>\n",
       "      <th>0</th>\n",
       "      <td>0</td>\n",
       "      <td>0</td>\n",
       "      <td>0</td>\n",
       "      <td>1</td>\n",
       "      <td>0</td>\n",
       "      <td>0</td>\n",
       "      <td>0</td>\n",
       "      <td>0</td>\n",
       "      <td>0</td>\n",
       "      <td>0</td>\n",
       "      <td>0</td>\n",
       "      <td>1</td>\n",
       "      <td>Costco</td>\n",
       "      <td>[]</td>\n",
       "      <td>['costco']</td>\n",
       "      <td>Costco</td>\n",
       "      <td>Costco</td>\n",
       "    </tr>\n",
       "    <tr>\n",
       "      <th>1</th>\n",
       "      <td>1</td>\n",
       "      <td>1</td>\n",
       "      <td>0</td>\n",
       "      <td>0</td>\n",
       "      <td>0</td>\n",
       "      <td>1</td>\n",
       "      <td>0</td>\n",
       "      <td>0</td>\n",
       "      <td>0</td>\n",
       "      <td>0</td>\n",
       "      <td>0</td>\n",
       "      <td>1</td>\n",
       "      <td>Sweaty balls</td>\n",
       "      <td>[]</td>\n",
       "      <td>['sweaty', 'ball']</td>\n",
       "      <td>Sweaty balls</td>\n",
       "      <td>Sweaty balls</td>\n",
       "    </tr>\n",
       "    <tr>\n",
       "      <th>2</th>\n",
       "      <td>2</td>\n",
       "      <td>2</td>\n",
       "      <td>0</td>\n",
       "      <td>0</td>\n",
       "      <td>1</td>\n",
       "      <td>0</td>\n",
       "      <td>0</td>\n",
       "      <td>0</td>\n",
       "      <td>0</td>\n",
       "      <td>0</td>\n",
       "      <td>0</td>\n",
       "      <td>1</td>\n",
       "      <td>🎥</td>\n",
       "      <td>['🎥']</td>\n",
       "      <td>['']</td>\n",
       "      <td>🎥</td>\n",
       "      <td></td>\n",
       "    </tr>\n",
       "    <tr>\n",
       "      <th>3</th>\n",
       "      <td>3</td>\n",
       "      <td>3</td>\n",
       "      <td>0</td>\n",
       "      <td>0</td>\n",
       "      <td>0</td>\n",
       "      <td>0</td>\n",
       "      <td>0</td>\n",
       "      <td>0</td>\n",
       "      <td>1</td>\n",
       "      <td>0</td>\n",
       "      <td>0</td>\n",
       "      <td>1</td>\n",
       "      <td>⚡</td>\n",
       "      <td>['⚡']</td>\n",
       "      <td>['']</td>\n",
       "      <td>⚡</td>\n",
       "      <td></td>\n",
       "    </tr>\n",
       "    <tr>\n",
       "      <th>6</th>\n",
       "      <td>6</td>\n",
       "      <td>6</td>\n",
       "      <td>0</td>\n",
       "      <td>1</td>\n",
       "      <td>0</td>\n",
       "      <td>0</td>\n",
       "      <td>0</td>\n",
       "      <td>0</td>\n",
       "      <td>0</td>\n",
       "      <td>0</td>\n",
       "      <td>0</td>\n",
       "      <td>1</td>\n",
       "      <td>Food</td>\n",
       "      <td>[]</td>\n",
       "      <td>['food']</td>\n",
       "      <td>Food</td>\n",
       "      <td>Food</td>\n",
       "    </tr>\n",
       "  </tbody>\n",
       "</table>\n",
       "</div>"
      ],
      "text/plain": [
       "   Unnamed: 0  index  People  Food  Event  Activity  Travel  Transportation  \\\n",
       "0           0      0       0     1      0         0       0               0   \n",
       "1           1      1       0     0      0         1       0               0   \n",
       "2           2      2       0     0      1         0       0               0   \n",
       "3           3      3       0     0      0         0       0               0   \n",
       "6           6      6       0     1      0         0       0               0   \n",
       "\n",
       "   Utility  Cash  Illegal/Sarcasm  number of classified   description  \\\n",
       "0        0     0                0                     1        Costco   \n",
       "1        0     0                0                     1  Sweaty balls   \n",
       "2        0     0                0                     1             🎥   \n",
       "3        1     0                0                     1             ⚡   \n",
       "6        0     0                0                     1          Food   \n",
       "\n",
       "  emoji_token          clean_text desc_punc_remove          text  \n",
       "0          []          ['costco']           Costco        Costco  \n",
       "1          []  ['sweaty', 'ball']     Sweaty balls  Sweaty balls  \n",
       "2       ['🎥']                ['']                🎥                \n",
       "3       ['⚡']                ['']                ⚡                \n",
       "6          []            ['food']             Food          Food  "
      ]
     },
     "execution_count": 16,
     "metadata": {},
     "output_type": "execute_result"
    }
   ],
   "source": [
    "unilabel_set.head()"
   ]
  },
  {
   "cell_type": "code",
   "execution_count": 15,
   "metadata": {},
   "outputs": [],
   "source": [
    "unilabel_set_test=unilabel_set.iloc[0:1500,:]"
   ]
  },
  {
   "cell_type": "code",
   "execution_count": 16,
   "metadata": {},
   "outputs": [],
   "source": [
    "# Functions for simple clean text\n",
    "def clean_data(data):\n",
    "    '''\n",
    "    Text Preprocessing, including tokenization, lemmatization and stop words removing\n",
    "    Input: string\n",
    "    Output: list\n",
    "    '''\n",
    "    if data=='':\n",
    "        return []\n",
    "    else:\n",
    "        words = nltk.word_tokenize(data)\n",
    "        words = [w.lower() for w in words]\n",
    "\n",
    "        stopwords = nltk.corpus.stopwords.words(\"english\") + [\"say\",\"get\",\"make\",\"also\",\"would\",\"could\",\"take\",\"go\"]\n",
    "\n",
    "        #isalnum()True if all characters in the string are alphanumeric (either alphabets or numbers)\n",
    "        words=[w for w in words if w not in stopwords]\n",
    "\n",
    "        return words\n"
   ]
  },
  {
   "cell_type": "code",
   "execution_count": 19,
   "metadata": {},
   "outputs": [
    {
     "data": {
      "text/plain": [
       "['costcoss']"
      ]
     },
     "execution_count": 19,
     "metadata": {},
     "output_type": "execute_result"
    }
   ],
   "source": [
    "clean_data('Costcoss')"
   ]
  },
  {
   "cell_type": "code",
   "execution_count": 17,
   "metadata": {},
   "outputs": [
    {
     "name": "stderr",
     "output_type": "stream",
     "text": [
      "/anaconda3/lib/python3.7/site-packages/ipykernel_launcher.py:1: SettingWithCopyWarning: \n",
      "A value is trying to be set on a copy of a slice from a DataFrame.\n",
      "Try using .loc[row_indexer,col_indexer] = value instead\n",
      "\n",
      "See the caveats in the documentation: http://pandas.pydata.org/pandas-docs/stable/user_guide/indexing.html#returning-a-view-versus-a-copy\n",
      "  \"\"\"Entry point for launching an IPython kernel.\n"
     ]
    }
   ],
   "source": [
    "unilabel_set_test['simple_clean_text']=[clean_data(x) for x in unilabel_set_test['text']]"
   ]
  },
  {
   "cell_type": "code",
   "execution_count": 18,
   "metadata": {},
   "outputs": [
    {
     "data": {
      "text/html": [
       "<div>\n",
       "<style scoped>\n",
       "    .dataframe tbody tr th:only-of-type {\n",
       "        vertical-align: middle;\n",
       "    }\n",
       "\n",
       "    .dataframe tbody tr th {\n",
       "        vertical-align: top;\n",
       "    }\n",
       "\n",
       "    .dataframe thead th {\n",
       "        text-align: right;\n",
       "    }\n",
       "</style>\n",
       "<table border=\"1\" class=\"dataframe\">\n",
       "  <thead>\n",
       "    <tr style=\"text-align: right;\">\n",
       "      <th></th>\n",
       "      <th>Unnamed: 0</th>\n",
       "      <th>index</th>\n",
       "      <th>People</th>\n",
       "      <th>Food</th>\n",
       "      <th>Event</th>\n",
       "      <th>Activity</th>\n",
       "      <th>Travel</th>\n",
       "      <th>Transportation</th>\n",
       "      <th>Utility</th>\n",
       "      <th>Cash</th>\n",
       "      <th>Illegal/Sarcasm</th>\n",
       "      <th>number of classified</th>\n",
       "      <th>description</th>\n",
       "      <th>emoji_token</th>\n",
       "      <th>clean_text</th>\n",
       "      <th>desc_punc_remove</th>\n",
       "      <th>text</th>\n",
       "      <th>simple_clean_text</th>\n",
       "    </tr>\n",
       "  </thead>\n",
       "  <tbody>\n",
       "    <tr>\n",
       "      <th>0</th>\n",
       "      <td>0</td>\n",
       "      <td>0</td>\n",
       "      <td>0</td>\n",
       "      <td>1</td>\n",
       "      <td>0</td>\n",
       "      <td>0</td>\n",
       "      <td>0</td>\n",
       "      <td>0</td>\n",
       "      <td>0</td>\n",
       "      <td>0</td>\n",
       "      <td>0</td>\n",
       "      <td>1</td>\n",
       "      <td>Costco</td>\n",
       "      <td>[]</td>\n",
       "      <td>['costco']</td>\n",
       "      <td>Costco</td>\n",
       "      <td>Costco</td>\n",
       "      <td>[costco]</td>\n",
       "    </tr>\n",
       "    <tr>\n",
       "      <th>1</th>\n",
       "      <td>1</td>\n",
       "      <td>1</td>\n",
       "      <td>0</td>\n",
       "      <td>0</td>\n",
       "      <td>0</td>\n",
       "      <td>1</td>\n",
       "      <td>0</td>\n",
       "      <td>0</td>\n",
       "      <td>0</td>\n",
       "      <td>0</td>\n",
       "      <td>0</td>\n",
       "      <td>1</td>\n",
       "      <td>Sweaty balls</td>\n",
       "      <td>[]</td>\n",
       "      <td>['sweaty', 'ball']</td>\n",
       "      <td>Sweaty balls</td>\n",
       "      <td>Sweaty balls</td>\n",
       "      <td>[sweaty, balls]</td>\n",
       "    </tr>\n",
       "    <tr>\n",
       "      <th>2</th>\n",
       "      <td>2</td>\n",
       "      <td>2</td>\n",
       "      <td>0</td>\n",
       "      <td>0</td>\n",
       "      <td>1</td>\n",
       "      <td>0</td>\n",
       "      <td>0</td>\n",
       "      <td>0</td>\n",
       "      <td>0</td>\n",
       "      <td>0</td>\n",
       "      <td>0</td>\n",
       "      <td>1</td>\n",
       "      <td>🎥</td>\n",
       "      <td>['🎥']</td>\n",
       "      <td>['']</td>\n",
       "      <td>🎥</td>\n",
       "      <td></td>\n",
       "      <td>[]</td>\n",
       "    </tr>\n",
       "    <tr>\n",
       "      <th>3</th>\n",
       "      <td>3</td>\n",
       "      <td>3</td>\n",
       "      <td>0</td>\n",
       "      <td>0</td>\n",
       "      <td>0</td>\n",
       "      <td>0</td>\n",
       "      <td>0</td>\n",
       "      <td>0</td>\n",
       "      <td>1</td>\n",
       "      <td>0</td>\n",
       "      <td>0</td>\n",
       "      <td>1</td>\n",
       "      <td>⚡</td>\n",
       "      <td>['⚡']</td>\n",
       "      <td>['']</td>\n",
       "      <td>⚡</td>\n",
       "      <td></td>\n",
       "      <td>[]</td>\n",
       "    </tr>\n",
       "    <tr>\n",
       "      <th>6</th>\n",
       "      <td>6</td>\n",
       "      <td>6</td>\n",
       "      <td>0</td>\n",
       "      <td>1</td>\n",
       "      <td>0</td>\n",
       "      <td>0</td>\n",
       "      <td>0</td>\n",
       "      <td>0</td>\n",
       "      <td>0</td>\n",
       "      <td>0</td>\n",
       "      <td>0</td>\n",
       "      <td>1</td>\n",
       "      <td>Food</td>\n",
       "      <td>[]</td>\n",
       "      <td>['food']</td>\n",
       "      <td>Food</td>\n",
       "      <td>Food</td>\n",
       "      <td>[food]</td>\n",
       "    </tr>\n",
       "  </tbody>\n",
       "</table>\n",
       "</div>"
      ],
      "text/plain": [
       "   Unnamed: 0  index  People  Food  Event  Activity  Travel  Transportation  \\\n",
       "0           0      0       0     1      0         0       0               0   \n",
       "1           1      1       0     0      0         1       0               0   \n",
       "2           2      2       0     0      1         0       0               0   \n",
       "3           3      3       0     0      0         0       0               0   \n",
       "6           6      6       0     1      0         0       0               0   \n",
       "\n",
       "   Utility  Cash  Illegal/Sarcasm  number of classified   description  \\\n",
       "0        0     0                0                     1        Costco   \n",
       "1        0     0                0                     1  Sweaty balls   \n",
       "2        0     0                0                     1             🎥   \n",
       "3        1     0                0                     1             ⚡   \n",
       "6        0     0                0                     1          Food   \n",
       "\n",
       "  emoji_token          clean_text desc_punc_remove          text  \\\n",
       "0          []          ['costco']           Costco        Costco   \n",
       "1          []  ['sweaty', 'ball']     Sweaty balls  Sweaty balls   \n",
       "2       ['🎥']                ['']                🎥                 \n",
       "3       ['⚡']                ['']                ⚡                 \n",
       "6          []            ['food']             Food          Food   \n",
       "\n",
       "  simple_clean_text  \n",
       "0          [costco]  \n",
       "1   [sweaty, balls]  \n",
       "2                []  \n",
       "3                []  \n",
       "6            [food]  "
      ]
     },
     "execution_count": 18,
     "metadata": {},
     "output_type": "execute_result"
    }
   ],
   "source": [
    "unilabel_set_test.head()"
   ]
  },
  {
   "cell_type": "code",
   "execution_count": null,
   "metadata": {},
   "outputs": [],
   "source": []
  },
  {
   "cell_type": "code",
   "execution_count": null,
   "metadata": {},
   "outputs": [],
   "source": [
    "## create new_lst_of_lst"
   ]
  },
  {
   "cell_type": "code",
   "execution_count": 19,
   "metadata": {},
   "outputs": [
    {
     "name": "stderr",
     "output_type": "stream",
     "text": [
      "/anaconda3/lib/python3.7/site-packages/ipykernel_launcher.py:1: SettingWithCopyWarning: \n",
      "A value is trying to be set on a copy of a slice from a DataFrame.\n",
      "Try using .loc[row_indexer,col_indexer] = value instead\n",
      "\n",
      "See the caveats in the documentation: http://pandas.pydata.org/pandas-docs/stable/user_guide/indexing.html#returning-a-view-versus-a-copy\n",
      "  \"\"\"Entry point for launching an IPython kernel.\n"
     ]
    }
   ],
   "source": [
    "unilabel_set_test['emoji_token']=[re.sub(r'[\\'\\[\\] ]','',x).split(',') for x in unilabel_set_test['emoji_token']]\n"
   ]
  },
  {
   "cell_type": "code",
   "execution_count": null,
   "metadata": {},
   "outputs": [],
   "source": []
  },
  {
   "cell_type": "code",
   "execution_count": null,
   "metadata": {},
   "outputs": [],
   "source": []
  },
  {
   "cell_type": "code",
   "execution_count": 20,
   "metadata": {},
   "outputs": [
    {
     "name": "stderr",
     "output_type": "stream",
     "text": [
      "/anaconda3/lib/python3.7/site-packages/ipykernel_launcher.py:1: SettingWithCopyWarning: \n",
      "A value is trying to be set on a copy of a slice from a DataFrame.\n",
      "Try using .loc[row_indexer,col_indexer] = value instead\n",
      "\n",
      "See the caveats in the documentation: http://pandas.pydata.org/pandas-docs/stable/user_guide/indexing.html#returning-a-view-versus-a-copy\n",
      "  \"\"\"Entry point for launching an IPython kernel.\n"
     ]
    }
   ],
   "source": [
    "\n",
    "unilabel_set_test['new_lst_of_lst']=[[x,y] for x, y in zip(unilabel_set_test['emoji_token'],unilabel_set_test['simple_clean_text'])]\n"
   ]
  },
  {
   "cell_type": "code",
   "execution_count": null,
   "metadata": {},
   "outputs": [],
   "source": []
  },
  {
   "cell_type": "code",
   "execution_count": 34,
   "metadata": {},
   "outputs": [],
   "source": [
    "\n",
    "x_test=pd.DataFrame([convert_to_vector(x) for x in list(unilabel_set_test['new_lst_of_lst'])])"
   ]
  },
  {
   "cell_type": "code",
   "execution_count": null,
   "metadata": {},
   "outputs": [],
   "source": [
    "## it works! no need to filter out out-of-dict emoji"
   ]
  },
  {
   "cell_type": "code",
   "execution_count": 35,
   "metadata": {},
   "outputs": [
    {
     "data": {
      "text/plain": [
       "(1500, 200)"
      ]
     },
     "execution_count": 35,
     "metadata": {},
     "output_type": "execute_result"
    }
   ],
   "source": [
    "x_test.shape"
   ]
  },
  {
   "cell_type": "code",
   "execution_count": 36,
   "metadata": {},
   "outputs": [
    {
     "name": "stderr",
     "output_type": "stream",
     "text": [
      "/anaconda3/lib/python3.7/site-packages/ipykernel_launcher.py:7: SettingWithCopyWarning: \n",
      "A value is trying to be set on a copy of a slice from a DataFrame.\n",
      "Try using .loc[row_indexer,col_indexer] = value instead\n",
      "\n",
      "See the caveats in the documentation: http://pandas.pydata.org/pandas-docs/stable/user_guide/indexing.html#returning-a-view-versus-a-copy\n",
      "  import sys\n",
      "/anaconda3/lib/python3.7/site-packages/ipykernel_launcher.py:8: SettingWithCopyWarning: \n",
      "A value is trying to be set on a copy of a slice from a DataFrame.\n",
      "Try using .loc[row_indexer,col_indexer] = value instead\n",
      "\n",
      "See the caveats in the documentation: http://pandas.pydata.org/pandas-docs/stable/user_guide/indexing.html#returning-a-view-versus-a-copy\n",
      "  \n",
      "/anaconda3/lib/python3.7/site-packages/ipykernel_launcher.py:9: SettingWithCopyWarning: \n",
      "A value is trying to be set on a copy of a slice from a DataFrame.\n",
      "Try using .loc[row_indexer,col_indexer] = value instead\n",
      "\n",
      "See the caveats in the documentation: http://pandas.pydata.org/pandas-docs/stable/user_guide/indexing.html#returning-a-view-versus-a-copy\n",
      "  if __name__ == '__main__':\n"
     ]
    },
    {
     "data": {
      "text/plain": [
       "{0: 'Activity',\n",
       " 1: 'Cash',\n",
       " 2: 'Event',\n",
       " 3: 'Food',\n",
       " 4: 'Illegal/Sarcasm',\n",
       " 5: 'People',\n",
       " 6: 'Transportation',\n",
       " 7: 'Travel',\n",
       " 8: 'Utility'}"
      ]
     },
     "execution_count": 36,
     "metadata": {},
     "output_type": "execute_result"
    }
   ],
   "source": [
    "# Create label vector: y\n",
    "c=['People', 'Food', 'Event', 'Activity', 'Travel', 'Transportation',\n",
    "       'Utility', 'Cash', 'Illegal/Sarcasm']\n",
    "y_dataset=unilabel_set_test[c]\n",
    "# Reform y\n",
    "# convert one-hot to categorical variable\n",
    "y_dataset['label']=y_dataset.idxmax(axis=1)\n",
    "y_dataset[\"label\"] = y_dataset[\"label\"].astype('category')\n",
    "y_dataset[\"label_code\"] = y_dataset[\"label\"].cat.codes\n",
    "\n",
    "dict(enumerate(y_dataset[\"label\"].cat.categories))"
   ]
  },
  {
   "cell_type": "code",
   "execution_count": 37,
   "metadata": {},
   "outputs": [],
   "source": [
    "y_test=y_dataset.loc[:,'label_code']"
   ]
  },
  {
   "cell_type": "code",
   "execution_count": null,
   "metadata": {},
   "outputs": [],
   "source": []
  },
  {
   "cell_type": "code",
   "execution_count": 38,
   "metadata": {},
   "outputs": [
    {
     "name": "stderr",
     "output_type": "stream",
     "text": [
      "/anaconda3/lib/python3.7/site-packages/sklearn/utils/deprecation.py:144: FutureWarning: The sklearn.linear_model.logistic module is  deprecated in version 0.22 and will be removed in version 0.24. The corresponding classes / functions should instead be imported from sklearn.linear_model. Anything that cannot be imported from sklearn.linear_model is now part of the private API.\n",
      "  warnings.warn(message, FutureWarning)\n",
      "/anaconda3/lib/python3.7/site-packages/sklearn/base.py:318: UserWarning: Trying to unpickle estimator LogisticRegression from version 0.21.3 when using version 0.22.1. This might lead to breaking code or invalid results. Use at your own risk.\n",
      "  UserWarning)\n"
     ]
    }
   ],
   "source": [
    "filename = 'Embed_Logistic_comb/A1.sav'\n",
    "log_model = pickle.load(open(filename, 'rb'))"
   ]
  },
  {
   "cell_type": "code",
   "execution_count": 39,
   "metadata": {},
   "outputs": [
    {
     "data": {
      "text/plain": [
       "0.818"
      ]
     },
     "execution_count": 39,
     "metadata": {},
     "output_type": "execute_result"
    }
   ],
   "source": [
    "# evaluate on simple cleaned data\n",
    "y_pred=log_model.predict(x_test)\n",
    "score = log_model.score(x_test, y_test)\n",
    "score"
   ]
  },
  {
   "cell_type": "code",
   "execution_count": 40,
   "metadata": {},
   "outputs": [
    {
     "data": {
      "text/plain": [
       "0.8075803928171154"
      ]
     },
     "execution_count": 40,
     "metadata": {},
     "output_type": "execute_result"
    }
   ],
   "source": [
    "metrics.f1_score(y_test, y_pred,average='weighted')"
   ]
  },
  {
   "cell_type": "code",
   "execution_count": 41,
   "metadata": {},
   "outputs": [
    {
     "data": {
      "text/plain": [
       "0.9493261460839507"
      ]
     },
     "execution_count": 41,
     "metadata": {},
     "output_type": "execute_result"
    }
   ],
   "source": [
    "y_pred_prob=log_model.predict_proba(x_test)\n",
    "metrics.roc_auc_score(y_test,y_pred_prob,average='macro',multi_class='ovr')"
   ]
  },
  {
   "cell_type": "code",
   "execution_count": 44,
   "metadata": {},
   "outputs": [
    {
     "name": "stderr",
     "output_type": "stream",
     "text": [
      "/anaconda3/lib/python3.7/site-packages/ipykernel_launcher.py:1: SettingWithCopyWarning: \n",
      "A value is trying to be set on a copy of a slice from a DataFrame.\n",
      "Try using .loc[row_indexer,col_indexer] = value instead\n",
      "\n",
      "See the caveats in the documentation: http://pandas.pydata.org/pandas-docs/stable/user_guide/indexing.html#returning-a-view-versus-a-copy\n",
      "  \"\"\"Entry point for launching an IPython kernel.\n"
     ]
    }
   ],
   "source": [
    "unilabel_set_test['true label']=y_dataset['label']"
   ]
  },
  {
   "cell_type": "code",
   "execution_count": 48,
   "metadata": {},
   "outputs": [
    {
     "name": "stderr",
     "output_type": "stream",
     "text": [
      "/anaconda3/lib/python3.7/site-packages/ipykernel_launcher.py:1: SettingWithCopyWarning: \n",
      "A value is trying to be set on a copy of a slice from a DataFrame.\n",
      "Try using .loc[row_indexer,col_indexer] = value instead\n",
      "\n",
      "See the caveats in the documentation: http://pandas.pydata.org/pandas-docs/stable/user_guide/indexing.html#returning-a-view-versus-a-copy\n",
      "  \"\"\"Entry point for launching an IPython kernel.\n",
      "/anaconda3/lib/python3.7/site-packages/ipykernel_launcher.py:13: SettingWithCopyWarning: \n",
      "A value is trying to be set on a copy of a slice from a DataFrame.\n",
      "Try using .loc[row_indexer,col_indexer] = value instead\n",
      "\n",
      "See the caveats in the documentation: http://pandas.pydata.org/pandas-docs/stable/user_guide/indexing.html#returning-a-view-versus-a-copy\n",
      "  del sys.path[0]\n"
     ]
    }
   ],
   "source": [
    "unilabel_set_test['predicted label']=y_pred\n",
    "\n",
    "class_dict={0: 'Activity',\n",
    " 1: 'Cash',\n",
    " 2: 'Event',\n",
    " 3: 'Food',\n",
    " 4: 'Illegal/Sarcasm',\n",
    " 5: 'People',\n",
    " 6: 'Transportation',\n",
    " 7: 'Travel',\n",
    " 8: 'Utility'}\n",
    "\n",
    "unilabel_set_test['Pred_label']=[class_dict[x] for x in unilabel_set_test['predicted label']]"
   ]
  },
  {
   "cell_type": "code",
   "execution_count": null,
   "metadata": {},
   "outputs": [],
   "source": []
  },
  {
   "cell_type": "code",
   "execution_count": 51,
   "metadata": {},
   "outputs": [],
   "source": [
    "unilabel_set_test[['description','new_lst_of_lst','true label','Pred_label']].to_csv('unilabel_pred_result.csv')"
   ]
  },
  {
   "cell_type": "code",
   "execution_count": 54,
   "metadata": {},
   "outputs": [],
   "source": [
    "unilabel_set_test.columns=['Unnamed: 0', 'index', 'People', 'Food', 'Event', 'Activity', 'Travel',\n",
    "       'Transportation', 'Utility', 'Cash', 'Illegal/Sarcasm',\n",
    "       'number of classified', 'Caption', 'emoji_token', 'clean_text',\n",
    "       'desc_punc_remove', 'text', 'simple_clean_text', 'new_lst_of_lst',\n",
    "       'True_label', 'predicted label', 'Pred_label']"
   ]
  },
  {
   "cell_type": "code",
   "execution_count": 55,
   "metadata": {},
   "outputs": [
    {
     "data": {
      "text/html": [
       "<div>\n",
       "<style scoped>\n",
       "    .dataframe tbody tr th:only-of-type {\n",
       "        vertical-align: middle;\n",
       "    }\n",
       "\n",
       "    .dataframe tbody tr th {\n",
       "        vertical-align: top;\n",
       "    }\n",
       "\n",
       "    .dataframe thead th {\n",
       "        text-align: right;\n",
       "    }\n",
       "</style>\n",
       "<table border=\"1\" class=\"dataframe\">\n",
       "  <thead>\n",
       "    <tr style=\"text-align: right;\">\n",
       "      <th></th>\n",
       "      <th>Caption</th>\n",
       "      <th>True_label</th>\n",
       "      <th>Pred_label</th>\n",
       "    </tr>\n",
       "  </thead>\n",
       "  <tbody>\n",
       "    <tr>\n",
       "      <th>0</th>\n",
       "      <td>Costco</td>\n",
       "      <td>Food</td>\n",
       "      <td>Food</td>\n",
       "    </tr>\n",
       "    <tr>\n",
       "      <th>1</th>\n",
       "      <td>Sweaty balls</td>\n",
       "      <td>Activity</td>\n",
       "      <td>Activity</td>\n",
       "    </tr>\n",
       "    <tr>\n",
       "      <th>2</th>\n",
       "      <td>🎥</td>\n",
       "      <td>Event</td>\n",
       "      <td>Activity</td>\n",
       "    </tr>\n",
       "    <tr>\n",
       "      <th>3</th>\n",
       "      <td>⚡</td>\n",
       "      <td>Utility</td>\n",
       "      <td>Utility</td>\n",
       "    </tr>\n",
       "    <tr>\n",
       "      <th>6</th>\n",
       "      <td>Food</td>\n",
       "      <td>Food</td>\n",
       "      <td>Food</td>\n",
       "    </tr>\n",
       "    <tr>\n",
       "      <th>8</th>\n",
       "      <td>Fan sucks</td>\n",
       "      <td>Illegal/Sarcasm</td>\n",
       "      <td>Activity</td>\n",
       "    </tr>\n",
       "    <tr>\n",
       "      <th>10</th>\n",
       "      <td>Thanks babe</td>\n",
       "      <td>People</td>\n",
       "      <td>People</td>\n",
       "    </tr>\n",
       "    <tr>\n",
       "      <th>11</th>\n",
       "      <td>🍺</td>\n",
       "      <td>Food</td>\n",
       "      <td>Food</td>\n",
       "    </tr>\n",
       "    <tr>\n",
       "      <th>12</th>\n",
       "      <td>⛽</td>\n",
       "      <td>Transportation</td>\n",
       "      <td>Transportation</td>\n",
       "    </tr>\n",
       "    <tr>\n",
       "      <th>14</th>\n",
       "      <td>Getaway car</td>\n",
       "      <td>Transportation</td>\n",
       "      <td>Transportation</td>\n",
       "    </tr>\n",
       "    <tr>\n",
       "      <th>17</th>\n",
       "      <td>Furniture</td>\n",
       "      <td>Utility</td>\n",
       "      <td>Utility</td>\n",
       "    </tr>\n",
       "    <tr>\n",
       "      <th>18</th>\n",
       "      <td>bed bath mostly beyond</td>\n",
       "      <td>Utility</td>\n",
       "      <td>Utility</td>\n",
       "    </tr>\n",
       "    <tr>\n",
       "      <th>19</th>\n",
       "      <td>Fun</td>\n",
       "      <td>Activity</td>\n",
       "      <td>Activity</td>\n",
       "    </tr>\n",
       "    <tr>\n",
       "      <th>21</th>\n",
       "      <td>You're lucky we didn't ask for 327 house payments</td>\n",
       "      <td>Utility</td>\n",
       "      <td>Utility</td>\n",
       "    </tr>\n",
       "    <tr>\n",
       "      <th>22</th>\n",
       "      <td>Cable part 2..</td>\n",
       "      <td>Utility</td>\n",
       "      <td>Utility</td>\n",
       "    </tr>\n",
       "    <tr>\n",
       "      <th>25</th>\n",
       "      <td>Money</td>\n",
       "      <td>Cash</td>\n",
       "      <td>Cash</td>\n",
       "    </tr>\n",
       "    <tr>\n",
       "      <th>26</th>\n",
       "      <td>key bees</td>\n",
       "      <td>Utility</td>\n",
       "      <td>Utility</td>\n",
       "    </tr>\n",
       "    <tr>\n",
       "      <th>28</th>\n",
       "      <td>Room</td>\n",
       "      <td>Utility</td>\n",
       "      <td>Utility</td>\n",
       "    </tr>\n",
       "    <tr>\n",
       "      <th>31</th>\n",
       "      <td>Last and next week</td>\n",
       "      <td>Activity</td>\n",
       "      <td>Activity</td>\n",
       "    </tr>\n",
       "    <tr>\n",
       "      <th>32</th>\n",
       "      <td>Cheese squares aka \"slices of cheese\"</td>\n",
       "      <td>Food</td>\n",
       "      <td>Food</td>\n",
       "    </tr>\n",
       "  </tbody>\n",
       "</table>\n",
       "</div>"
      ],
      "text/plain": [
       "                                              Caption       True_label  \\\n",
       "0                                              Costco             Food   \n",
       "1                                        Sweaty balls         Activity   \n",
       "2                                                   🎥            Event   \n",
       "3                                                   ⚡          Utility   \n",
       "6                                                Food             Food   \n",
       "8                                           Fan sucks  Illegal/Sarcasm   \n",
       "10                                        Thanks babe           People   \n",
       "11                                                  🍺             Food   \n",
       "12                                                  ⛽   Transportation   \n",
       "14                                        Getaway car   Transportation   \n",
       "17                                          Furniture          Utility   \n",
       "18                             bed bath mostly beyond          Utility   \n",
       "19                                                Fun         Activity   \n",
       "21  You're lucky we didn't ask for 327 house payments          Utility   \n",
       "22                                     Cable part 2..          Utility   \n",
       "25                                              Money             Cash   \n",
       "26                                           key bees          Utility   \n",
       "28                                               Room          Utility   \n",
       "31                                 Last and next week         Activity   \n",
       "32              Cheese squares aka \"slices of cheese\"             Food   \n",
       "\n",
       "        Pred_label  \n",
       "0             Food  \n",
       "1         Activity  \n",
       "2         Activity  \n",
       "3          Utility  \n",
       "6             Food  \n",
       "8         Activity  \n",
       "10          People  \n",
       "11            Food  \n",
       "12  Transportation  \n",
       "14  Transportation  \n",
       "17         Utility  \n",
       "18         Utility  \n",
       "19        Activity  \n",
       "21         Utility  \n",
       "22         Utility  \n",
       "25            Cash  \n",
       "26         Utility  \n",
       "28         Utility  \n",
       "31        Activity  \n",
       "32            Food  "
      ]
     },
     "execution_count": 55,
     "metadata": {},
     "output_type": "execute_result"
    }
   ],
   "source": [
    "unilabel_set_test[['Caption','True_label','Pred_label']][0:20]"
   ]
  },
  {
   "cell_type": "code",
   "execution_count": 49,
   "metadata": {},
   "outputs": [
    {
     "data": {
      "text/html": [
       "<div>\n",
       "<style scoped>\n",
       "    .dataframe tbody tr th:only-of-type {\n",
       "        vertical-align: middle;\n",
       "    }\n",
       "\n",
       "    .dataframe tbody tr th {\n",
       "        vertical-align: top;\n",
       "    }\n",
       "\n",
       "    .dataframe thead th {\n",
       "        text-align: right;\n",
       "    }\n",
       "</style>\n",
       "<table border=\"1\" class=\"dataframe\">\n",
       "  <thead>\n",
       "    <tr style=\"text-align: right;\">\n",
       "      <th></th>\n",
       "      <th>Unnamed: 0</th>\n",
       "      <th>index</th>\n",
       "      <th>People</th>\n",
       "      <th>Food</th>\n",
       "      <th>Event</th>\n",
       "      <th>Activity</th>\n",
       "      <th>Travel</th>\n",
       "      <th>Transportation</th>\n",
       "      <th>Utility</th>\n",
       "      <th>Cash</th>\n",
       "      <th>...</th>\n",
       "      <th>description</th>\n",
       "      <th>emoji_token</th>\n",
       "      <th>clean_text</th>\n",
       "      <th>desc_punc_remove</th>\n",
       "      <th>text</th>\n",
       "      <th>simple_clean_text</th>\n",
       "      <th>new_lst_of_lst</th>\n",
       "      <th>true label</th>\n",
       "      <th>predicted label</th>\n",
       "      <th>Pred_label</th>\n",
       "    </tr>\n",
       "  </thead>\n",
       "  <tbody>\n",
       "    <tr>\n",
       "      <th>0</th>\n",
       "      <td>0</td>\n",
       "      <td>0</td>\n",
       "      <td>0</td>\n",
       "      <td>1</td>\n",
       "      <td>0</td>\n",
       "      <td>0</td>\n",
       "      <td>0</td>\n",
       "      <td>0</td>\n",
       "      <td>0</td>\n",
       "      <td>0</td>\n",
       "      <td>...</td>\n",
       "      <td>Costco</td>\n",
       "      <td>[]</td>\n",
       "      <td>['costco']</td>\n",
       "      <td>Costco</td>\n",
       "      <td>Costco</td>\n",
       "      <td>[costco]</td>\n",
       "      <td>[[], [costco]]</td>\n",
       "      <td>Food</td>\n",
       "      <td>3</td>\n",
       "      <td>Food</td>\n",
       "    </tr>\n",
       "    <tr>\n",
       "      <th>1</th>\n",
       "      <td>1</td>\n",
       "      <td>1</td>\n",
       "      <td>0</td>\n",
       "      <td>0</td>\n",
       "      <td>0</td>\n",
       "      <td>1</td>\n",
       "      <td>0</td>\n",
       "      <td>0</td>\n",
       "      <td>0</td>\n",
       "      <td>0</td>\n",
       "      <td>...</td>\n",
       "      <td>Sweaty balls</td>\n",
       "      <td>[]</td>\n",
       "      <td>['sweaty', 'ball']</td>\n",
       "      <td>Sweaty balls</td>\n",
       "      <td>Sweaty balls</td>\n",
       "      <td>[sweaty, balls]</td>\n",
       "      <td>[[], [sweaty, balls]]</td>\n",
       "      <td>Activity</td>\n",
       "      <td>0</td>\n",
       "      <td>Activity</td>\n",
       "    </tr>\n",
       "    <tr>\n",
       "      <th>2</th>\n",
       "      <td>2</td>\n",
       "      <td>2</td>\n",
       "      <td>0</td>\n",
       "      <td>0</td>\n",
       "      <td>1</td>\n",
       "      <td>0</td>\n",
       "      <td>0</td>\n",
       "      <td>0</td>\n",
       "      <td>0</td>\n",
       "      <td>0</td>\n",
       "      <td>...</td>\n",
       "      <td>🎥</td>\n",
       "      <td>[🎥]</td>\n",
       "      <td>['']</td>\n",
       "      <td>🎥</td>\n",
       "      <td></td>\n",
       "      <td>[]</td>\n",
       "      <td>[[🎥], []]</td>\n",
       "      <td>Event</td>\n",
       "      <td>0</td>\n",
       "      <td>Activity</td>\n",
       "    </tr>\n",
       "    <tr>\n",
       "      <th>3</th>\n",
       "      <td>3</td>\n",
       "      <td>3</td>\n",
       "      <td>0</td>\n",
       "      <td>0</td>\n",
       "      <td>0</td>\n",
       "      <td>0</td>\n",
       "      <td>0</td>\n",
       "      <td>0</td>\n",
       "      <td>1</td>\n",
       "      <td>0</td>\n",
       "      <td>...</td>\n",
       "      <td>⚡</td>\n",
       "      <td>[⚡]</td>\n",
       "      <td>['']</td>\n",
       "      <td>⚡</td>\n",
       "      <td></td>\n",
       "      <td>[]</td>\n",
       "      <td>[[⚡], []]</td>\n",
       "      <td>Utility</td>\n",
       "      <td>8</td>\n",
       "      <td>Utility</td>\n",
       "    </tr>\n",
       "    <tr>\n",
       "      <th>6</th>\n",
       "      <td>6</td>\n",
       "      <td>6</td>\n",
       "      <td>0</td>\n",
       "      <td>1</td>\n",
       "      <td>0</td>\n",
       "      <td>0</td>\n",
       "      <td>0</td>\n",
       "      <td>0</td>\n",
       "      <td>0</td>\n",
       "      <td>0</td>\n",
       "      <td>...</td>\n",
       "      <td>Food</td>\n",
       "      <td>[]</td>\n",
       "      <td>['food']</td>\n",
       "      <td>Food</td>\n",
       "      <td>Food</td>\n",
       "      <td>[food]</td>\n",
       "      <td>[[], [food]]</td>\n",
       "      <td>Food</td>\n",
       "      <td>3</td>\n",
       "      <td>Food</td>\n",
       "    </tr>\n",
       "  </tbody>\n",
       "</table>\n",
       "<p>5 rows × 22 columns</p>\n",
       "</div>"
      ],
      "text/plain": [
       "   Unnamed: 0  index  People  Food  Event  Activity  Travel  Transportation  \\\n",
       "0           0      0       0     1      0         0       0               0   \n",
       "1           1      1       0     0      0         1       0               0   \n",
       "2           2      2       0     0      1         0       0               0   \n",
       "3           3      3       0     0      0         0       0               0   \n",
       "6           6      6       0     1      0         0       0               0   \n",
       "\n",
       "   Utility  Cash  ...   description  emoji_token          clean_text  \\\n",
       "0        0     0  ...        Costco           []          ['costco']   \n",
       "1        0     0  ...  Sweaty balls           []  ['sweaty', 'ball']   \n",
       "2        0     0  ...             🎥          [🎥]                ['']   \n",
       "3        1     0  ...             ⚡          [⚡]                ['']   \n",
       "6        0     0  ...          Food           []            ['food']   \n",
       "\n",
       "  desc_punc_remove          text simple_clean_text         new_lst_of_lst  \\\n",
       "0           Costco        Costco          [costco]         [[], [costco]]   \n",
       "1     Sweaty balls  Sweaty balls   [sweaty, balls]  [[], [sweaty, balls]]   \n",
       "2                🎥                              []              [[🎥], []]   \n",
       "3                ⚡                              []              [[⚡], []]   \n",
       "6             Food          Food            [food]           [[], [food]]   \n",
       "\n",
       "  true label predicted label Pred_label  \n",
       "0       Food               3       Food  \n",
       "1   Activity               0   Activity  \n",
       "2      Event               0   Activity  \n",
       "3    Utility               8    Utility  \n",
       "6       Food               3       Food  \n",
       "\n",
       "[5 rows x 22 columns]"
      ]
     },
     "execution_count": 49,
     "metadata": {},
     "output_type": "execute_result"
    }
   ],
   "source": [
    "unilabel_set_test.head()"
   ]
  },
  {
   "cell_type": "code",
   "execution_count": null,
   "metadata": {},
   "outputs": [],
   "source": []
  },
  {
   "cell_type": "code",
   "execution_count": null,
   "metadata": {},
   "outputs": [],
   "source": [
    "## predict on unclassified"
   ]
  },
  {
   "cell_type": "code",
   "execution_count": null,
   "metadata": {},
   "outputs": [],
   "source": []
  },
  {
   "cell_type": "code",
   "execution_count": null,
   "metadata": {},
   "outputs": [],
   "source": []
  },
  {
   "cell_type": "code",
   "execution_count": null,
   "metadata": {},
   "outputs": [],
   "source": []
  }
 ],
 "metadata": {
  "kernelspec": {
   "display_name": "Python 3",
   "language": "python",
   "name": "python3"
  },
  "language_info": {
   "codemirror_mode": {
    "name": "ipython",
    "version": 3
   },
   "file_extension": ".py",
   "mimetype": "text/x-python",
   "name": "python",
   "nbconvert_exporter": "python",
   "pygments_lexer": "ipython3",
   "version": "3.7.1"
  }
 },
 "nbformat": 4,
 "nbformat_minor": 2
}
